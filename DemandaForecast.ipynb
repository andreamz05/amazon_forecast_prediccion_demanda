{
 "cells": [
  {
   "cell_type": "markdown",
   "id": "e68be0e4",
   "metadata": {},
   "source": [
    "# Predicción de demanda con Amazon Forecast"
   ]
  },
  {
   "cell_type": "markdown",
   "id": "b26937fd",
   "metadata": {},
   "source": [
    "Amazon Forecast es un servicio completamente administrado que permite generar predicciones muy precisas sobre series temporales. Este servicio está basado  en la misma tecnología que utiliza Amazon.com, y no requiere ninguna experiencia previa sobre aprendizaje automático."
   ]
  },
  {
   "cell_type": "markdown",
   "id": "60fc4e48",
   "metadata": {},
   "source": [
    "Para poder utilizar Amazon Forecast, el usuario necesita proveer datos históricos de lo que busca predecir, así como cualquier otra información adicional que pueda impactar dicha predicción. Por ejemplo, la demanda por un tipo de zapato en particular puede variar acorde a la estación (verano, invierno, primavera, otoño) y por la ubicación de la tienda."
   ]
  },
  {
   "cell_type": "raw",
   "id": "183c4ede",
   "metadata": {},
   "source": [
    "Para generar la predicciones necesitamos:\n",
    "    1) Importar un dataset\n",
    "    2) Entrenar un predictor\n",
    "    3) Crear un forecast\n",
    "    4) Consumir un forecast"
   ]
  },
  {
   "cell_type": "markdown",
   "id": "4373ee99",
   "metadata": {},
   "source": [
    "El servicio ofrece diferentes dominios, que definen un esquema pre-definido para diferentes casos de uso. Para este ejemplo, utilizaremos el dominio de RETAIL."
   ]
  },
  {
   "cell_type": "markdown",
   "id": "5dfaa8ef",
   "metadata": {},
   "source": [
    "## Importando los datos al notebook"
   ]
  },
  {
   "cell_type": "markdown",
   "id": "35168e05",
   "metadata": {},
   "source": [
    "Haremos uso de un dataset público, disponible en [este enlace](https://www.kaggle.com/datasets/knightbearr/sales-product-data). Este es un dataset de ventas de productos, que contiene las fechas de venta, la cantidad de producto y el nombre del producto que fue vendido."
   ]
  },
  {
   "cell_type": "code",
   "execution_count": 1,
   "id": "86f85633",
   "metadata": {},
   "outputs": [
    {
     "name": "stdout",
     "output_type": "stream",
     "text": [
      "Cloning into 'forecast-sales_product_data'...\n",
      "remote: Enumerating objects: 14, done.\u001b[K\n",
      "remote: Counting objects: 100% (14/14), done.\u001b[K\n",
      "remote: Compressing objects: 100% (14/14), done.\u001b[K\n",
      "remote: Total 14 (delta 11), reused 0 (delta 0), pack-reused 0\u001b[K\n",
      "Receiving objects: 100% (14/14), 2.52 MiB | 2.47 MiB/s, done.\n",
      "Resolving deltas: 100% (11/11), done.\n"
     ]
    }
   ],
   "source": [
    "# clonando el dataset\n",
    "! git clone https://github.com/andreamz05/forecast-sales_product_data.git"
   ]
  },
  {
   "cell_type": "markdown",
   "id": "acd1db92",
   "metadata": {},
   "source": [
    "## Pre-procesando los datos"
   ]
  },
  {
   "cell_type": "code",
   "execution_count": 130,
   "id": "fae1016c",
   "metadata": {},
   "outputs": [],
   "source": [
    "# importando librerías necesarias\n",
    "import pandas as pd\n",
    "import numpy as np\n",
    "import matplotlib.pyplot as plt\n",
    "import seaborn as sns\n",
    "import datetime\n",
    "import dateutil.parser\n",
    "import glob\n",
    "import os"
   ]
  },
  {
   "cell_type": "code",
   "execution_count": 3,
   "id": "9bc4b608",
   "metadata": {},
   "outputs": [],
   "source": [
    "cwd = os.getcwd()"
   ]
  },
  {
   "cell_type": "code",
   "execution_count": 4,
   "id": "82e4ffb9",
   "metadata": {},
   "outputs": [
    {
     "data": {
      "text/plain": [
       "'/home/ec2-user/SageMaker'"
      ]
     },
     "execution_count": 4,
     "metadata": {},
     "output_type": "execute_result"
    }
   ],
   "source": [
    "cwd"
   ]
  },
  {
   "cell_type": "code",
   "execution_count": 5,
   "id": "14b5cf2b",
   "metadata": {},
   "outputs": [],
   "source": [
    "path = cwd + '/forecast-sales_product_data' \n",
    "all_files = glob.glob(os.path.join(path , \"*.csv\"))\n",
    "li = []\n",
    "\n",
    "for filename in all_files:\n",
    "    df = pd.read_csv(filename, index_col=None, header=0)\n",
    "    li.append(df)\n",
    "\n",
    "df_all_data = pd.concat(li, axis=0, ignore_index=True)"
   ]
  },
  {
   "cell_type": "code",
   "execution_count": 6,
   "id": "2337e5d8",
   "metadata": {},
   "outputs": [
    {
     "data": {
      "text/html": [
       "<div>\n",
       "<style scoped>\n",
       "    .dataframe tbody tr th:only-of-type {\n",
       "        vertical-align: middle;\n",
       "    }\n",
       "\n",
       "    .dataframe tbody tr th {\n",
       "        vertical-align: top;\n",
       "    }\n",
       "\n",
       "    .dataframe thead th {\n",
       "        text-align: right;\n",
       "    }\n",
       "</style>\n",
       "<table border=\"1\" class=\"dataframe\">\n",
       "  <thead>\n",
       "    <tr style=\"text-align: right;\">\n",
       "      <th></th>\n",
       "      <th>Order ID</th>\n",
       "      <th>Product</th>\n",
       "      <th>Quantity Ordered</th>\n",
       "      <th>Price Each</th>\n",
       "      <th>Order Date</th>\n",
       "      <th>Purchase Address</th>\n",
       "    </tr>\n",
       "  </thead>\n",
       "  <tbody>\n",
       "    <tr>\n",
       "      <th>0</th>\n",
       "      <td>248151</td>\n",
       "      <td>AA Batteries (4-pack)</td>\n",
       "      <td>4</td>\n",
       "      <td>3.84</td>\n",
       "      <td>09/17/19 14:44</td>\n",
       "      <td>380 North St, Los Angeles, CA 90001</td>\n",
       "    </tr>\n",
       "    <tr>\n",
       "      <th>1</th>\n",
       "      <td>248152</td>\n",
       "      <td>USB-C Charging Cable</td>\n",
       "      <td>2</td>\n",
       "      <td>11.95</td>\n",
       "      <td>09/29/19 10:19</td>\n",
       "      <td>511 8th St, Austin, TX 73301</td>\n",
       "    </tr>\n",
       "    <tr>\n",
       "      <th>2</th>\n",
       "      <td>248153</td>\n",
       "      <td>USB-C Charging Cable</td>\n",
       "      <td>1</td>\n",
       "      <td>11.95</td>\n",
       "      <td>09/16/19 17:48</td>\n",
       "      <td>151 Johnson St, Los Angeles, CA 90001</td>\n",
       "    </tr>\n",
       "    <tr>\n",
       "      <th>3</th>\n",
       "      <td>248154</td>\n",
       "      <td>27in FHD Monitor</td>\n",
       "      <td>1</td>\n",
       "      <td>149.99</td>\n",
       "      <td>09/27/19 07:52</td>\n",
       "      <td>355 Hickory St, Seattle, WA 98101</td>\n",
       "    </tr>\n",
       "    <tr>\n",
       "      <th>4</th>\n",
       "      <td>248155</td>\n",
       "      <td>USB-C Charging Cable</td>\n",
       "      <td>1</td>\n",
       "      <td>11.95</td>\n",
       "      <td>09/01/19 19:03</td>\n",
       "      <td>125 5th St, Atlanta, GA 30301</td>\n",
       "    </tr>\n",
       "    <tr>\n",
       "      <th>...</th>\n",
       "      <td>...</td>\n",
       "      <td>...</td>\n",
       "      <td>...</td>\n",
       "      <td>...</td>\n",
       "      <td>...</td>\n",
       "      <td>...</td>\n",
       "    </tr>\n",
       "    <tr>\n",
       "      <th>186845</th>\n",
       "      <td>295660</td>\n",
       "      <td>AAA Batteries (4-pack)</td>\n",
       "      <td>2</td>\n",
       "      <td>2.99</td>\n",
       "      <td>11/04/19 14:17</td>\n",
       "      <td>574 4th St, Los Angeles, CA 90001</td>\n",
       "    </tr>\n",
       "    <tr>\n",
       "      <th>186846</th>\n",
       "      <td>295661</td>\n",
       "      <td>USB-C Charging Cable</td>\n",
       "      <td>1</td>\n",
       "      <td>11.95</td>\n",
       "      <td>11/23/19 07:22</td>\n",
       "      <td>359 1st St, Austin, TX 73301</td>\n",
       "    </tr>\n",
       "    <tr>\n",
       "      <th>186847</th>\n",
       "      <td>295662</td>\n",
       "      <td>Lightning Charging Cable</td>\n",
       "      <td>1</td>\n",
       "      <td>14.95</td>\n",
       "      <td>11/13/19 16:12</td>\n",
       "      <td>900 10th St, Boston, MA 02215</td>\n",
       "    </tr>\n",
       "    <tr>\n",
       "      <th>186848</th>\n",
       "      <td>295663</td>\n",
       "      <td>AAA Batteries (4-pack)</td>\n",
       "      <td>1</td>\n",
       "      <td>2.99</td>\n",
       "      <td>11/17/19 17:08</td>\n",
       "      <td>592 Sunset St, Boston, MA 02215</td>\n",
       "    </tr>\n",
       "    <tr>\n",
       "      <th>186849</th>\n",
       "      <td>295664</td>\n",
       "      <td>Google Phone</td>\n",
       "      <td>1</td>\n",
       "      <td>600</td>\n",
       "      <td>11/17/19 16:13</td>\n",
       "      <td>428 Jackson St, Boston, MA 02215</td>\n",
       "    </tr>\n",
       "  </tbody>\n",
       "</table>\n",
       "<p>186850 rows × 6 columns</p>\n",
       "</div>"
      ],
      "text/plain": [
       "       Order ID                   Product Quantity Ordered Price Each  \\\n",
       "0        248151     AA Batteries (4-pack)                4       3.84   \n",
       "1        248152      USB-C Charging Cable                2      11.95   \n",
       "2        248153      USB-C Charging Cable                1      11.95   \n",
       "3        248154          27in FHD Monitor                1     149.99   \n",
       "4        248155      USB-C Charging Cable                1      11.95   \n",
       "...         ...                       ...              ...        ...   \n",
       "186845   295660    AAA Batteries (4-pack)                2       2.99   \n",
       "186846   295661      USB-C Charging Cable                1      11.95   \n",
       "186847   295662  Lightning Charging Cable                1      14.95   \n",
       "186848   295663    AAA Batteries (4-pack)                1       2.99   \n",
       "186849   295664              Google Phone                1        600   \n",
       "\n",
       "            Order Date                       Purchase Address  \n",
       "0       09/17/19 14:44    380 North St, Los Angeles, CA 90001  \n",
       "1       09/29/19 10:19           511 8th St, Austin, TX 73301  \n",
       "2       09/16/19 17:48  151 Johnson St, Los Angeles, CA 90001  \n",
       "3       09/27/19 07:52      355 Hickory St, Seattle, WA 98101  \n",
       "4       09/01/19 19:03          125 5th St, Atlanta, GA 30301  \n",
       "...                ...                                    ...  \n",
       "186845  11/04/19 14:17      574 4th St, Los Angeles, CA 90001  \n",
       "186846  11/23/19 07:22           359 1st St, Austin, TX 73301  \n",
       "186847  11/13/19 16:12          900 10th St, Boston, MA 02215  \n",
       "186848  11/17/19 17:08        592 Sunset St, Boston, MA 02215  \n",
       "186849  11/17/19 16:13       428 Jackson St, Boston, MA 02215  \n",
       "\n",
       "[186850 rows x 6 columns]"
      ]
     },
     "execution_count": 6,
     "metadata": {},
     "output_type": "execute_result"
    }
   ],
   "source": [
    "df_all_data"
   ]
  },
  {
   "cell_type": "code",
   "execution_count": 7,
   "id": "c6e15a7a",
   "metadata": {},
   "outputs": [],
   "source": [
    "df_all_data = df_all_data.dropna() #limpiando el dataset"
   ]
  },
  {
   "cell_type": "code",
   "execution_count": 8,
   "id": "a175a694",
   "metadata": {},
   "outputs": [
    {
     "data": {
      "text/html": [
       "<div>\n",
       "<style scoped>\n",
       "    .dataframe tbody tr th:only-of-type {\n",
       "        vertical-align: middle;\n",
       "    }\n",
       "\n",
       "    .dataframe tbody tr th {\n",
       "        vertical-align: top;\n",
       "    }\n",
       "\n",
       "    .dataframe thead th {\n",
       "        text-align: right;\n",
       "    }\n",
       "</style>\n",
       "<table border=\"1\" class=\"dataframe\">\n",
       "  <thead>\n",
       "    <tr style=\"text-align: right;\">\n",
       "      <th></th>\n",
       "      <th>Order ID</th>\n",
       "      <th>Product</th>\n",
       "      <th>Quantity Ordered</th>\n",
       "      <th>Price Each</th>\n",
       "      <th>Order Date</th>\n",
       "      <th>Purchase Address</th>\n",
       "    </tr>\n",
       "  </thead>\n",
       "  <tbody>\n",
       "    <tr>\n",
       "      <th>count</th>\n",
       "      <td>186305</td>\n",
       "      <td>186305</td>\n",
       "      <td>186305</td>\n",
       "      <td>186305</td>\n",
       "      <td>186305</td>\n",
       "      <td>186305</td>\n",
       "    </tr>\n",
       "    <tr>\n",
       "      <th>unique</th>\n",
       "      <td>178438</td>\n",
       "      <td>20</td>\n",
       "      <td>10</td>\n",
       "      <td>24</td>\n",
       "      <td>142396</td>\n",
       "      <td>140788</td>\n",
       "    </tr>\n",
       "    <tr>\n",
       "      <th>top</th>\n",
       "      <td>Order ID</td>\n",
       "      <td>USB-C Charging Cable</td>\n",
       "      <td>1</td>\n",
       "      <td>11.95</td>\n",
       "      <td>Order Date</td>\n",
       "      <td>Purchase Address</td>\n",
       "    </tr>\n",
       "    <tr>\n",
       "      <th>freq</th>\n",
       "      <td>355</td>\n",
       "      <td>21903</td>\n",
       "      <td>168552</td>\n",
       "      <td>21903</td>\n",
       "      <td>355</td>\n",
       "      <td>355</td>\n",
       "    </tr>\n",
       "  </tbody>\n",
       "</table>\n",
       "</div>"
      ],
      "text/plain": [
       "        Order ID               Product Quantity Ordered Price Each  \\\n",
       "count     186305                186305           186305     186305   \n",
       "unique    178438                    20               10         24   \n",
       "top     Order ID  USB-C Charging Cable                1      11.95   \n",
       "freq         355                 21903           168552      21903   \n",
       "\n",
       "        Order Date  Purchase Address  \n",
       "count       186305            186305  \n",
       "unique      142396            140788  \n",
       "top     Order Date  Purchase Address  \n",
       "freq           355               355  "
      ]
     },
     "execution_count": 8,
     "metadata": {},
     "output_type": "execute_result"
    }
   ],
   "source": [
    "df_all_data.describe()"
   ]
  },
  {
   "cell_type": "code",
   "execution_count": 9,
   "id": "da32f13a",
   "metadata": {},
   "outputs": [],
   "source": [
    "df_all_data = df_all_data[df_all_data.ne(df_all_data.columns).any(axis=1)]"
   ]
  },
  {
   "cell_type": "code",
   "execution_count": 10,
   "id": "5f195882",
   "metadata": {},
   "outputs": [],
   "source": [
    "df_all_data['Order Date'] = pd.to_datetime(df_all_data['Order Date'], format='%m/%d/%y %H:%M')"
   ]
  },
  {
   "cell_type": "code",
   "execution_count": 11,
   "id": "a89a9ea2",
   "metadata": {},
   "outputs": [
    {
     "data": {
      "text/html": [
       "<div>\n",
       "<style scoped>\n",
       "    .dataframe tbody tr th:only-of-type {\n",
       "        vertical-align: middle;\n",
       "    }\n",
       "\n",
       "    .dataframe tbody tr th {\n",
       "        vertical-align: top;\n",
       "    }\n",
       "\n",
       "    .dataframe thead th {\n",
       "        text-align: right;\n",
       "    }\n",
       "</style>\n",
       "<table border=\"1\" class=\"dataframe\">\n",
       "  <thead>\n",
       "    <tr style=\"text-align: right;\">\n",
       "      <th></th>\n",
       "      <th>Order ID</th>\n",
       "      <th>Product</th>\n",
       "      <th>Quantity Ordered</th>\n",
       "      <th>Price Each</th>\n",
       "      <th>Order Date</th>\n",
       "      <th>Purchase Address</th>\n",
       "    </tr>\n",
       "  </thead>\n",
       "  <tbody>\n",
       "    <tr>\n",
       "      <th>0</th>\n",
       "      <td>248151</td>\n",
       "      <td>AA Batteries (4-pack)</td>\n",
       "      <td>4</td>\n",
       "      <td>3.84</td>\n",
       "      <td>2019-09-17 14:44:00</td>\n",
       "      <td>380 North St, Los Angeles, CA 90001</td>\n",
       "    </tr>\n",
       "    <tr>\n",
       "      <th>1</th>\n",
       "      <td>248152</td>\n",
       "      <td>USB-C Charging Cable</td>\n",
       "      <td>2</td>\n",
       "      <td>11.95</td>\n",
       "      <td>2019-09-29 10:19:00</td>\n",
       "      <td>511 8th St, Austin, TX 73301</td>\n",
       "    </tr>\n",
       "    <tr>\n",
       "      <th>2</th>\n",
       "      <td>248153</td>\n",
       "      <td>USB-C Charging Cable</td>\n",
       "      <td>1</td>\n",
       "      <td>11.95</td>\n",
       "      <td>2019-09-16 17:48:00</td>\n",
       "      <td>151 Johnson St, Los Angeles, CA 90001</td>\n",
       "    </tr>\n",
       "    <tr>\n",
       "      <th>3</th>\n",
       "      <td>248154</td>\n",
       "      <td>27in FHD Monitor</td>\n",
       "      <td>1</td>\n",
       "      <td>149.99</td>\n",
       "      <td>2019-09-27 07:52:00</td>\n",
       "      <td>355 Hickory St, Seattle, WA 98101</td>\n",
       "    </tr>\n",
       "    <tr>\n",
       "      <th>4</th>\n",
       "      <td>248155</td>\n",
       "      <td>USB-C Charging Cable</td>\n",
       "      <td>1</td>\n",
       "      <td>11.95</td>\n",
       "      <td>2019-09-01 19:03:00</td>\n",
       "      <td>125 5th St, Atlanta, GA 30301</td>\n",
       "    </tr>\n",
       "    <tr>\n",
       "      <th>...</th>\n",
       "      <td>...</td>\n",
       "      <td>...</td>\n",
       "      <td>...</td>\n",
       "      <td>...</td>\n",
       "      <td>...</td>\n",
       "      <td>...</td>\n",
       "    </tr>\n",
       "    <tr>\n",
       "      <th>186845</th>\n",
       "      <td>295660</td>\n",
       "      <td>AAA Batteries (4-pack)</td>\n",
       "      <td>2</td>\n",
       "      <td>2.99</td>\n",
       "      <td>2019-11-04 14:17:00</td>\n",
       "      <td>574 4th St, Los Angeles, CA 90001</td>\n",
       "    </tr>\n",
       "    <tr>\n",
       "      <th>186846</th>\n",
       "      <td>295661</td>\n",
       "      <td>USB-C Charging Cable</td>\n",
       "      <td>1</td>\n",
       "      <td>11.95</td>\n",
       "      <td>2019-11-23 07:22:00</td>\n",
       "      <td>359 1st St, Austin, TX 73301</td>\n",
       "    </tr>\n",
       "    <tr>\n",
       "      <th>186847</th>\n",
       "      <td>295662</td>\n",
       "      <td>Lightning Charging Cable</td>\n",
       "      <td>1</td>\n",
       "      <td>14.95</td>\n",
       "      <td>2019-11-13 16:12:00</td>\n",
       "      <td>900 10th St, Boston, MA 02215</td>\n",
       "    </tr>\n",
       "    <tr>\n",
       "      <th>186848</th>\n",
       "      <td>295663</td>\n",
       "      <td>AAA Batteries (4-pack)</td>\n",
       "      <td>1</td>\n",
       "      <td>2.99</td>\n",
       "      <td>2019-11-17 17:08:00</td>\n",
       "      <td>592 Sunset St, Boston, MA 02215</td>\n",
       "    </tr>\n",
       "    <tr>\n",
       "      <th>186849</th>\n",
       "      <td>295664</td>\n",
       "      <td>Google Phone</td>\n",
       "      <td>1</td>\n",
       "      <td>600</td>\n",
       "      <td>2019-11-17 16:13:00</td>\n",
       "      <td>428 Jackson St, Boston, MA 02215</td>\n",
       "    </tr>\n",
       "  </tbody>\n",
       "</table>\n",
       "<p>185950 rows × 6 columns</p>\n",
       "</div>"
      ],
      "text/plain": [
       "       Order ID                   Product Quantity Ordered Price Each  \\\n",
       "0        248151     AA Batteries (4-pack)                4       3.84   \n",
       "1        248152      USB-C Charging Cable                2      11.95   \n",
       "2        248153      USB-C Charging Cable                1      11.95   \n",
       "3        248154          27in FHD Monitor                1     149.99   \n",
       "4        248155      USB-C Charging Cable                1      11.95   \n",
       "...         ...                       ...              ...        ...   \n",
       "186845   295660    AAA Batteries (4-pack)                2       2.99   \n",
       "186846   295661      USB-C Charging Cable                1      11.95   \n",
       "186847   295662  Lightning Charging Cable                1      14.95   \n",
       "186848   295663    AAA Batteries (4-pack)                1       2.99   \n",
       "186849   295664              Google Phone                1        600   \n",
       "\n",
       "                Order Date                       Purchase Address  \n",
       "0      2019-09-17 14:44:00    380 North St, Los Angeles, CA 90001  \n",
       "1      2019-09-29 10:19:00           511 8th St, Austin, TX 73301  \n",
       "2      2019-09-16 17:48:00  151 Johnson St, Los Angeles, CA 90001  \n",
       "3      2019-09-27 07:52:00      355 Hickory St, Seattle, WA 98101  \n",
       "4      2019-09-01 19:03:00          125 5th St, Atlanta, GA 30301  \n",
       "...                    ...                                    ...  \n",
       "186845 2019-11-04 14:17:00      574 4th St, Los Angeles, CA 90001  \n",
       "186846 2019-11-23 07:22:00           359 1st St, Austin, TX 73301  \n",
       "186847 2019-11-13 16:12:00          900 10th St, Boston, MA 02215  \n",
       "186848 2019-11-17 17:08:00        592 Sunset St, Boston, MA 02215  \n",
       "186849 2019-11-17 16:13:00       428 Jackson St, Boston, MA 02215  \n",
       "\n",
       "[185950 rows x 6 columns]"
      ]
     },
     "execution_count": 11,
     "metadata": {},
     "output_type": "execute_result"
    }
   ],
   "source": [
    "df_all_data"
   ]
  },
  {
   "cell_type": "code",
   "execution_count": 12,
   "id": "c4180eb7",
   "metadata": {},
   "outputs": [],
   "source": [
    "df_all_data = df_all_data.sort_values(by='Order Date')"
   ]
  },
  {
   "cell_type": "code",
   "execution_count": 13,
   "id": "381c8f76",
   "metadata": {},
   "outputs": [],
   "source": [
    "df_all_data = df_all_data.rename(columns={'Order ID': 'order_id', 'Product': 'product', 'Quantity Ordered': 'demand', 'Price Each':'price_each', 'Order Date': 'order_date', 'Purchase Address': 'purchase_address'})"
   ]
  },
  {
   "cell_type": "code",
   "execution_count": 14,
   "id": "60d41eb4",
   "metadata": {},
   "outputs": [
    {
     "data": {
      "text/html": [
       "<div>\n",
       "<style scoped>\n",
       "    .dataframe tbody tr th:only-of-type {\n",
       "        vertical-align: middle;\n",
       "    }\n",
       "\n",
       "    .dataframe tbody tr th {\n",
       "        vertical-align: top;\n",
       "    }\n",
       "\n",
       "    .dataframe thead th {\n",
       "        text-align: right;\n",
       "    }\n",
       "</style>\n",
       "<table border=\"1\" class=\"dataframe\">\n",
       "  <thead>\n",
       "    <tr style=\"text-align: right;\">\n",
       "      <th></th>\n",
       "      <th>order_id</th>\n",
       "      <th>product</th>\n",
       "      <th>demand</th>\n",
       "      <th>price_each</th>\n",
       "      <th>order_date</th>\n",
       "      <th>purchase_address</th>\n",
       "    </tr>\n",
       "  </thead>\n",
       "  <tbody>\n",
       "    <tr>\n",
       "      <th>115035</th>\n",
       "      <td>147268</td>\n",
       "      <td>Wired Headphones</td>\n",
       "      <td>1</td>\n",
       "      <td>11.99</td>\n",
       "      <td>2019-01-01 03:07:00</td>\n",
       "      <td>9 Lake St, New York City, NY 10001</td>\n",
       "    </tr>\n",
       "    <tr>\n",
       "      <th>115845</th>\n",
       "      <td>148041</td>\n",
       "      <td>USB-C Charging Cable</td>\n",
       "      <td>1</td>\n",
       "      <td>11.95</td>\n",
       "      <td>2019-01-01 03:40:00</td>\n",
       "      <td>760 Church St, San Francisco, CA 94016</td>\n",
       "    </tr>\n",
       "    <tr>\n",
       "      <th>117198</th>\n",
       "      <td>149343</td>\n",
       "      <td>Apple Airpods Headphones</td>\n",
       "      <td>1</td>\n",
       "      <td>150</td>\n",
       "      <td>2019-01-01 04:56:00</td>\n",
       "      <td>735 5th St, New York City, NY 10001</td>\n",
       "    </tr>\n",
       "    <tr>\n",
       "      <th>117852</th>\n",
       "      <td>149964</td>\n",
       "      <td>AAA Batteries (4-pack)</td>\n",
       "      <td>1</td>\n",
       "      <td>2.99</td>\n",
       "      <td>2019-01-01 05:53:00</td>\n",
       "      <td>75 Jackson St, Dallas, TX 75001</td>\n",
       "    </tr>\n",
       "    <tr>\n",
       "      <th>117205</th>\n",
       "      <td>149350</td>\n",
       "      <td>USB-C Charging Cable</td>\n",
       "      <td>2</td>\n",
       "      <td>11.95</td>\n",
       "      <td>2019-01-01 06:03:00</td>\n",
       "      <td>943 2nd St, Atlanta, GA 30301</td>\n",
       "    </tr>\n",
       "    <tr>\n",
       "      <th>...</th>\n",
       "      <td>...</td>\n",
       "      <td>...</td>\n",
       "      <td>...</td>\n",
       "      <td>...</td>\n",
       "      <td>...</td>\n",
       "      <td>...</td>\n",
       "    </tr>\n",
       "    <tr>\n",
       "      <th>152986</th>\n",
       "      <td>304165</td>\n",
       "      <td>AAA Batteries (4-pack)</td>\n",
       "      <td>1</td>\n",
       "      <td>2.99</td>\n",
       "      <td>2020-01-01 04:13:00</td>\n",
       "      <td>825 Adams St, Portland, OR 97035</td>\n",
       "    </tr>\n",
       "    <tr>\n",
       "      <th>147705</th>\n",
       "      <td>299125</td>\n",
       "      <td>USB-C Charging Cable</td>\n",
       "      <td>1</td>\n",
       "      <td>11.95</td>\n",
       "      <td>2020-01-01 04:21:00</td>\n",
       "      <td>754 Hickory St, New York City, NY 10001</td>\n",
       "    </tr>\n",
       "    <tr>\n",
       "      <th>154739</th>\n",
       "      <td>305840</td>\n",
       "      <td>Bose SoundSport Headphones</td>\n",
       "      <td>1</td>\n",
       "      <td>99.99</td>\n",
       "      <td>2020-01-01 04:54:00</td>\n",
       "      <td>784 River St, San Francisco, CA 94016</td>\n",
       "    </tr>\n",
       "    <tr>\n",
       "      <th>149176</th>\n",
       "      <td>300519</td>\n",
       "      <td>Lightning Charging Cable</td>\n",
       "      <td>1</td>\n",
       "      <td>14.95</td>\n",
       "      <td>2020-01-01 05:13:00</td>\n",
       "      <td>657 Spruce St, New York City, NY 10001</td>\n",
       "    </tr>\n",
       "    <tr>\n",
       "      <th>149175</th>\n",
       "      <td>300519</td>\n",
       "      <td>Bose SoundSport Headphones</td>\n",
       "      <td>1</td>\n",
       "      <td>99.99</td>\n",
       "      <td>2020-01-01 05:13:00</td>\n",
       "      <td>657 Spruce St, New York City, NY 10001</td>\n",
       "    </tr>\n",
       "  </tbody>\n",
       "</table>\n",
       "<p>185950 rows × 6 columns</p>\n",
       "</div>"
      ],
      "text/plain": [
       "       order_id                     product demand price_each  \\\n",
       "115035   147268            Wired Headphones      1      11.99   \n",
       "115845   148041        USB-C Charging Cable      1      11.95   \n",
       "117198   149343    Apple Airpods Headphones      1        150   \n",
       "117852   149964      AAA Batteries (4-pack)      1       2.99   \n",
       "117205   149350        USB-C Charging Cable      2      11.95   \n",
       "...         ...                         ...    ...        ...   \n",
       "152986   304165      AAA Batteries (4-pack)      1       2.99   \n",
       "147705   299125        USB-C Charging Cable      1      11.95   \n",
       "154739   305840  Bose SoundSport Headphones      1      99.99   \n",
       "149176   300519    Lightning Charging Cable      1      14.95   \n",
       "149175   300519  Bose SoundSport Headphones      1      99.99   \n",
       "\n",
       "                order_date                         purchase_address  \n",
       "115035 2019-01-01 03:07:00       9 Lake St, New York City, NY 10001  \n",
       "115845 2019-01-01 03:40:00   760 Church St, San Francisco, CA 94016  \n",
       "117198 2019-01-01 04:56:00      735 5th St, New York City, NY 10001  \n",
       "117852 2019-01-01 05:53:00          75 Jackson St, Dallas, TX 75001  \n",
       "117205 2019-01-01 06:03:00            943 2nd St, Atlanta, GA 30301  \n",
       "...                    ...                                      ...  \n",
       "152986 2020-01-01 04:13:00         825 Adams St, Portland, OR 97035  \n",
       "147705 2020-01-01 04:21:00  754 Hickory St, New York City, NY 10001  \n",
       "154739 2020-01-01 04:54:00    784 River St, San Francisco, CA 94016  \n",
       "149176 2020-01-01 05:13:00   657 Spruce St, New York City, NY 10001  \n",
       "149175 2020-01-01 05:13:00   657 Spruce St, New York City, NY 10001  \n",
       "\n",
       "[185950 rows x 6 columns]"
      ]
     },
     "execution_count": 14,
     "metadata": {},
     "output_type": "execute_result"
    }
   ],
   "source": [
    "df_all_data"
   ]
  },
  {
   "cell_type": "code",
   "execution_count": 15,
   "id": "4b6090fc",
   "metadata": {},
   "outputs": [],
   "source": [
    "df_all_data = df_all_data.astype({'order_id': int, 'demand': int, 'price_each': float})"
   ]
  },
  {
   "cell_type": "code",
   "execution_count": 16,
   "id": "3261d438",
   "metadata": {},
   "outputs": [
    {
     "name": "stdout",
     "output_type": "stream",
     "text": [
      "<class 'pandas.core.frame.DataFrame'>\n",
      "Int64Index: 185950 entries, 115035 to 149175\n",
      "Data columns (total 6 columns):\n",
      " #   Column            Non-Null Count   Dtype         \n",
      "---  ------            --------------   -----         \n",
      " 0   order_id          185950 non-null  int64         \n",
      " 1   product           185950 non-null  object        \n",
      " 2   demand            185950 non-null  int64         \n",
      " 3   price_each        185950 non-null  float64       \n",
      " 4   order_date        185950 non-null  datetime64[ns]\n",
      " 5   purchase_address  185950 non-null  object        \n",
      "dtypes: datetime64[ns](1), float64(1), int64(2), object(2)\n",
      "memory usage: 9.9+ MB\n"
     ]
    }
   ],
   "source": [
    "df_all_data.info()"
   ]
  },
  {
   "cell_type": "code",
   "execution_count": 17,
   "id": "e779f429",
   "metadata": {},
   "outputs": [],
   "source": [
    "demand = df_all_data.groupby(['order_date', 'product'])['demand'].sum().reset_index()"
   ]
  },
  {
   "cell_type": "code",
   "execution_count": 18,
   "id": "f270e984",
   "metadata": {},
   "outputs": [
    {
     "data": {
      "text/html": [
       "<div>\n",
       "<style scoped>\n",
       "    .dataframe tbody tr th:only-of-type {\n",
       "        vertical-align: middle;\n",
       "    }\n",
       "\n",
       "    .dataframe tbody tr th {\n",
       "        vertical-align: top;\n",
       "    }\n",
       "\n",
       "    .dataframe thead th {\n",
       "        text-align: right;\n",
       "    }\n",
       "</style>\n",
       "<table border=\"1\" class=\"dataframe\">\n",
       "  <thead>\n",
       "    <tr style=\"text-align: right;\">\n",
       "      <th></th>\n",
       "      <th>order_date</th>\n",
       "      <th>product</th>\n",
       "      <th>demand</th>\n",
       "    </tr>\n",
       "  </thead>\n",
       "  <tbody>\n",
       "    <tr>\n",
       "      <th>0</th>\n",
       "      <td>2019-01-01 03:07:00</td>\n",
       "      <td>Wired Headphones</td>\n",
       "      <td>1</td>\n",
       "    </tr>\n",
       "    <tr>\n",
       "      <th>1</th>\n",
       "      <td>2019-01-01 03:40:00</td>\n",
       "      <td>USB-C Charging Cable</td>\n",
       "      <td>1</td>\n",
       "    </tr>\n",
       "    <tr>\n",
       "      <th>2</th>\n",
       "      <td>2019-01-01 04:56:00</td>\n",
       "      <td>Apple Airpods Headphones</td>\n",
       "      <td>1</td>\n",
       "    </tr>\n",
       "    <tr>\n",
       "      <th>3</th>\n",
       "      <td>2019-01-01 05:53:00</td>\n",
       "      <td>AAA Batteries (4-pack)</td>\n",
       "      <td>1</td>\n",
       "    </tr>\n",
       "    <tr>\n",
       "      <th>4</th>\n",
       "      <td>2019-01-01 06:03:00</td>\n",
       "      <td>USB-C Charging Cable</td>\n",
       "      <td>2</td>\n",
       "    </tr>\n",
       "    <tr>\n",
       "      <th>...</th>\n",
       "      <td>...</td>\n",
       "      <td>...</td>\n",
       "      <td>...</td>\n",
       "    </tr>\n",
       "    <tr>\n",
       "      <th>181872</th>\n",
       "      <td>2020-01-01 04:13:00</td>\n",
       "      <td>AAA Batteries (4-pack)</td>\n",
       "      <td>1</td>\n",
       "    </tr>\n",
       "    <tr>\n",
       "      <th>181873</th>\n",
       "      <td>2020-01-01 04:21:00</td>\n",
       "      <td>USB-C Charging Cable</td>\n",
       "      <td>1</td>\n",
       "    </tr>\n",
       "    <tr>\n",
       "      <th>181874</th>\n",
       "      <td>2020-01-01 04:54:00</td>\n",
       "      <td>Bose SoundSport Headphones</td>\n",
       "      <td>1</td>\n",
       "    </tr>\n",
       "    <tr>\n",
       "      <th>181875</th>\n",
       "      <td>2020-01-01 05:13:00</td>\n",
       "      <td>Bose SoundSport Headphones</td>\n",
       "      <td>1</td>\n",
       "    </tr>\n",
       "    <tr>\n",
       "      <th>181876</th>\n",
       "      <td>2020-01-01 05:13:00</td>\n",
       "      <td>Lightning Charging Cable</td>\n",
       "      <td>1</td>\n",
       "    </tr>\n",
       "  </tbody>\n",
       "</table>\n",
       "<p>181877 rows × 3 columns</p>\n",
       "</div>"
      ],
      "text/plain": [
       "                order_date                     product  demand\n",
       "0      2019-01-01 03:07:00            Wired Headphones       1\n",
       "1      2019-01-01 03:40:00        USB-C Charging Cable       1\n",
       "2      2019-01-01 04:56:00    Apple Airpods Headphones       1\n",
       "3      2019-01-01 05:53:00      AAA Batteries (4-pack)       1\n",
       "4      2019-01-01 06:03:00        USB-C Charging Cable       2\n",
       "...                    ...                         ...     ...\n",
       "181872 2020-01-01 04:13:00      AAA Batteries (4-pack)       1\n",
       "181873 2020-01-01 04:21:00        USB-C Charging Cable       1\n",
       "181874 2020-01-01 04:54:00  Bose SoundSport Headphones       1\n",
       "181875 2020-01-01 05:13:00  Bose SoundSport Headphones       1\n",
       "181876 2020-01-01 05:13:00    Lightning Charging Cable       1\n",
       "\n",
       "[181877 rows x 3 columns]"
      ]
     },
     "execution_count": 18,
     "metadata": {},
     "output_type": "execute_result"
    }
   ],
   "source": [
    "demand"
   ]
  },
  {
   "cell_type": "markdown",
   "id": "60df9123",
   "metadata": {},
   "source": [
    "Nota: Los atributos en nuestro set de datos para predicción de valores a futuro pueden tener cualquier nombre (no importa), sin embargo debe ir exactamente en ese orden: timestamp, item_id y valor a predecir. "
   ]
  },
  {
   "cell_type": "code",
   "execution_count": 19,
   "id": "9bc767c8",
   "metadata": {},
   "outputs": [],
   "source": [
    "split_date = datetime.datetime(2019,10,31,23,59,59)"
   ]
  },
  {
   "cell_type": "code",
   "execution_count": 20,
   "id": "5883821d",
   "metadata": {},
   "outputs": [],
   "source": [
    "train = demand.loc[demand['order_date'] <= split_date]\n",
    "test = demand.loc[demand['order_date'] > split_date]"
   ]
  },
  {
   "cell_type": "code",
   "execution_count": 21,
   "id": "c60fffe6",
   "metadata": {},
   "outputs": [
    {
     "data": {
      "text/html": [
       "<div>\n",
       "<style scoped>\n",
       "    .dataframe tbody tr th:only-of-type {\n",
       "        vertical-align: middle;\n",
       "    }\n",
       "\n",
       "    .dataframe tbody tr th {\n",
       "        vertical-align: top;\n",
       "    }\n",
       "\n",
       "    .dataframe thead th {\n",
       "        text-align: right;\n",
       "    }\n",
       "</style>\n",
       "<table border=\"1\" class=\"dataframe\">\n",
       "  <thead>\n",
       "    <tr style=\"text-align: right;\">\n",
       "      <th></th>\n",
       "      <th>order_date</th>\n",
       "      <th>product</th>\n",
       "      <th>demand</th>\n",
       "    </tr>\n",
       "  </thead>\n",
       "  <tbody>\n",
       "    <tr>\n",
       "      <th>0</th>\n",
       "      <td>2019-01-01 03:07:00</td>\n",
       "      <td>Wired Headphones</td>\n",
       "      <td>1</td>\n",
       "    </tr>\n",
       "    <tr>\n",
       "      <th>1</th>\n",
       "      <td>2019-01-01 03:40:00</td>\n",
       "      <td>USB-C Charging Cable</td>\n",
       "      <td>1</td>\n",
       "    </tr>\n",
       "    <tr>\n",
       "      <th>2</th>\n",
       "      <td>2019-01-01 04:56:00</td>\n",
       "      <td>Apple Airpods Headphones</td>\n",
       "      <td>1</td>\n",
       "    </tr>\n",
       "    <tr>\n",
       "      <th>3</th>\n",
       "      <td>2019-01-01 05:53:00</td>\n",
       "      <td>AAA Batteries (4-pack)</td>\n",
       "      <td>1</td>\n",
       "    </tr>\n",
       "    <tr>\n",
       "      <th>4</th>\n",
       "      <td>2019-01-01 06:03:00</td>\n",
       "      <td>USB-C Charging Cable</td>\n",
       "      <td>2</td>\n",
       "    </tr>\n",
       "    <tr>\n",
       "      <th>...</th>\n",
       "      <td>...</td>\n",
       "      <td>...</td>\n",
       "      <td>...</td>\n",
       "    </tr>\n",
       "    <tr>\n",
       "      <th>140467</th>\n",
       "      <td>2019-10-31 23:38:00</td>\n",
       "      <td>AAA Batteries (4-pack)</td>\n",
       "      <td>1</td>\n",
       "    </tr>\n",
       "    <tr>\n",
       "      <th>140468</th>\n",
       "      <td>2019-10-31 23:48:00</td>\n",
       "      <td>Macbook Pro Laptop</td>\n",
       "      <td>1</td>\n",
       "    </tr>\n",
       "    <tr>\n",
       "      <th>140469</th>\n",
       "      <td>2019-10-31 23:49:00</td>\n",
       "      <td>27in 4K Gaming Monitor</td>\n",
       "      <td>1</td>\n",
       "    </tr>\n",
       "    <tr>\n",
       "      <th>140470</th>\n",
       "      <td>2019-10-31 23:50:00</td>\n",
       "      <td>Flatscreen TV</td>\n",
       "      <td>1</td>\n",
       "    </tr>\n",
       "    <tr>\n",
       "      <th>140471</th>\n",
       "      <td>2019-10-31 23:51:00</td>\n",
       "      <td>USB-C Charging Cable</td>\n",
       "      <td>1</td>\n",
       "    </tr>\n",
       "  </tbody>\n",
       "</table>\n",
       "<p>140472 rows × 3 columns</p>\n",
       "</div>"
      ],
      "text/plain": [
       "                order_date                   product  demand\n",
       "0      2019-01-01 03:07:00          Wired Headphones       1\n",
       "1      2019-01-01 03:40:00      USB-C Charging Cable       1\n",
       "2      2019-01-01 04:56:00  Apple Airpods Headphones       1\n",
       "3      2019-01-01 05:53:00    AAA Batteries (4-pack)       1\n",
       "4      2019-01-01 06:03:00      USB-C Charging Cable       2\n",
       "...                    ...                       ...     ...\n",
       "140467 2019-10-31 23:38:00    AAA Batteries (4-pack)       1\n",
       "140468 2019-10-31 23:48:00        Macbook Pro Laptop       1\n",
       "140469 2019-10-31 23:49:00    27in 4K Gaming Monitor       1\n",
       "140470 2019-10-31 23:50:00             Flatscreen TV       1\n",
       "140471 2019-10-31 23:51:00      USB-C Charging Cable       1\n",
       "\n",
       "[140472 rows x 3 columns]"
      ]
     },
     "execution_count": 21,
     "metadata": {},
     "output_type": "execute_result"
    }
   ],
   "source": [
    "train"
   ]
  },
  {
   "cell_type": "code",
   "execution_count": 22,
   "id": "2442264d",
   "metadata": {},
   "outputs": [
    {
     "data": {
      "text/html": [
       "<div>\n",
       "<style scoped>\n",
       "    .dataframe tbody tr th:only-of-type {\n",
       "        vertical-align: middle;\n",
       "    }\n",
       "\n",
       "    .dataframe tbody tr th {\n",
       "        vertical-align: top;\n",
       "    }\n",
       "\n",
       "    .dataframe thead th {\n",
       "        text-align: right;\n",
       "    }\n",
       "</style>\n",
       "<table border=\"1\" class=\"dataframe\">\n",
       "  <thead>\n",
       "    <tr style=\"text-align: right;\">\n",
       "      <th></th>\n",
       "      <th>order_date</th>\n",
       "      <th>product</th>\n",
       "      <th>demand</th>\n",
       "    </tr>\n",
       "  </thead>\n",
       "  <tbody>\n",
       "    <tr>\n",
       "      <th>140472</th>\n",
       "      <td>2019-11-01 00:00:00</td>\n",
       "      <td>AA Batteries (4-pack)</td>\n",
       "      <td>1</td>\n",
       "    </tr>\n",
       "    <tr>\n",
       "      <th>140473</th>\n",
       "      <td>2019-11-01 00:09:00</td>\n",
       "      <td>AAA Batteries (4-pack)</td>\n",
       "      <td>1</td>\n",
       "    </tr>\n",
       "    <tr>\n",
       "      <th>140474</th>\n",
       "      <td>2019-11-01 00:10:00</td>\n",
       "      <td>Bose SoundSport Headphones</td>\n",
       "      <td>1</td>\n",
       "    </tr>\n",
       "    <tr>\n",
       "      <th>140475</th>\n",
       "      <td>2019-11-01 00:24:00</td>\n",
       "      <td>AAA Batteries (4-pack)</td>\n",
       "      <td>1</td>\n",
       "    </tr>\n",
       "    <tr>\n",
       "      <th>140476</th>\n",
       "      <td>2019-11-01 00:31:00</td>\n",
       "      <td>27in FHD Monitor</td>\n",
       "      <td>1</td>\n",
       "    </tr>\n",
       "    <tr>\n",
       "      <th>...</th>\n",
       "      <td>...</td>\n",
       "      <td>...</td>\n",
       "      <td>...</td>\n",
       "    </tr>\n",
       "    <tr>\n",
       "      <th>181872</th>\n",
       "      <td>2020-01-01 04:13:00</td>\n",
       "      <td>AAA Batteries (4-pack)</td>\n",
       "      <td>1</td>\n",
       "    </tr>\n",
       "    <tr>\n",
       "      <th>181873</th>\n",
       "      <td>2020-01-01 04:21:00</td>\n",
       "      <td>USB-C Charging Cable</td>\n",
       "      <td>1</td>\n",
       "    </tr>\n",
       "    <tr>\n",
       "      <th>181874</th>\n",
       "      <td>2020-01-01 04:54:00</td>\n",
       "      <td>Bose SoundSport Headphones</td>\n",
       "      <td>1</td>\n",
       "    </tr>\n",
       "    <tr>\n",
       "      <th>181875</th>\n",
       "      <td>2020-01-01 05:13:00</td>\n",
       "      <td>Bose SoundSport Headphones</td>\n",
       "      <td>1</td>\n",
       "    </tr>\n",
       "    <tr>\n",
       "      <th>181876</th>\n",
       "      <td>2020-01-01 05:13:00</td>\n",
       "      <td>Lightning Charging Cable</td>\n",
       "      <td>1</td>\n",
       "    </tr>\n",
       "  </tbody>\n",
       "</table>\n",
       "<p>41405 rows × 3 columns</p>\n",
       "</div>"
      ],
      "text/plain": [
       "                order_date                     product  demand\n",
       "140472 2019-11-01 00:00:00       AA Batteries (4-pack)       1\n",
       "140473 2019-11-01 00:09:00      AAA Batteries (4-pack)       1\n",
       "140474 2019-11-01 00:10:00  Bose SoundSport Headphones       1\n",
       "140475 2019-11-01 00:24:00      AAA Batteries (4-pack)       1\n",
       "140476 2019-11-01 00:31:00            27in FHD Monitor       1\n",
       "...                    ...                         ...     ...\n",
       "181872 2020-01-01 04:13:00      AAA Batteries (4-pack)       1\n",
       "181873 2020-01-01 04:21:00        USB-C Charging Cable       1\n",
       "181874 2020-01-01 04:54:00  Bose SoundSport Headphones       1\n",
       "181875 2020-01-01 05:13:00  Bose SoundSport Headphones       1\n",
       "181876 2020-01-01 05:13:00    Lightning Charging Cable       1\n",
       "\n",
       "[41405 rows x 3 columns]"
      ]
     },
     "execution_count": 22,
     "metadata": {},
     "output_type": "execute_result"
    }
   ],
   "source": [
    "test"
   ]
  },
  {
   "cell_type": "code",
   "execution_count": 23,
   "id": "fa878cf3",
   "metadata": {},
   "outputs": [],
   "source": [
    "data_plot = train.copy()"
   ]
  },
  {
   "cell_type": "code",
   "execution_count": 24,
   "id": "cb5aee83",
   "metadata": {},
   "outputs": [],
   "source": [
    "data_plot['date'] = data_plot['order_date'].dt.strftime('%Y-%m')"
   ]
  },
  {
   "cell_type": "code",
   "execution_count": 25,
   "id": "2fda3581",
   "metadata": {},
   "outputs": [
    {
     "data": {
      "text/html": [
       "<div>\n",
       "<style scoped>\n",
       "    .dataframe tbody tr th:only-of-type {\n",
       "        vertical-align: middle;\n",
       "    }\n",
       "\n",
       "    .dataframe tbody tr th {\n",
       "        vertical-align: top;\n",
       "    }\n",
       "\n",
       "    .dataframe thead th {\n",
       "        text-align: right;\n",
       "    }\n",
       "</style>\n",
       "<table border=\"1\" class=\"dataframe\">\n",
       "  <thead>\n",
       "    <tr style=\"text-align: right;\">\n",
       "      <th></th>\n",
       "      <th>order_date</th>\n",
       "      <th>product</th>\n",
       "      <th>demand</th>\n",
       "      <th>date</th>\n",
       "    </tr>\n",
       "  </thead>\n",
       "  <tbody>\n",
       "    <tr>\n",
       "      <th>0</th>\n",
       "      <td>2019-01-01 03:07:00</td>\n",
       "      <td>Wired Headphones</td>\n",
       "      <td>1</td>\n",
       "      <td>2019-01</td>\n",
       "    </tr>\n",
       "    <tr>\n",
       "      <th>1</th>\n",
       "      <td>2019-01-01 03:40:00</td>\n",
       "      <td>USB-C Charging Cable</td>\n",
       "      <td>1</td>\n",
       "      <td>2019-01</td>\n",
       "    </tr>\n",
       "    <tr>\n",
       "      <th>2</th>\n",
       "      <td>2019-01-01 04:56:00</td>\n",
       "      <td>Apple Airpods Headphones</td>\n",
       "      <td>1</td>\n",
       "      <td>2019-01</td>\n",
       "    </tr>\n",
       "    <tr>\n",
       "      <th>3</th>\n",
       "      <td>2019-01-01 05:53:00</td>\n",
       "      <td>AAA Batteries (4-pack)</td>\n",
       "      <td>1</td>\n",
       "      <td>2019-01</td>\n",
       "    </tr>\n",
       "    <tr>\n",
       "      <th>4</th>\n",
       "      <td>2019-01-01 06:03:00</td>\n",
       "      <td>USB-C Charging Cable</td>\n",
       "      <td>2</td>\n",
       "      <td>2019-01</td>\n",
       "    </tr>\n",
       "    <tr>\n",
       "      <th>...</th>\n",
       "      <td>...</td>\n",
       "      <td>...</td>\n",
       "      <td>...</td>\n",
       "      <td>...</td>\n",
       "    </tr>\n",
       "    <tr>\n",
       "      <th>140467</th>\n",
       "      <td>2019-10-31 23:38:00</td>\n",
       "      <td>AAA Batteries (4-pack)</td>\n",
       "      <td>1</td>\n",
       "      <td>2019-10</td>\n",
       "    </tr>\n",
       "    <tr>\n",
       "      <th>140468</th>\n",
       "      <td>2019-10-31 23:48:00</td>\n",
       "      <td>Macbook Pro Laptop</td>\n",
       "      <td>1</td>\n",
       "      <td>2019-10</td>\n",
       "    </tr>\n",
       "    <tr>\n",
       "      <th>140469</th>\n",
       "      <td>2019-10-31 23:49:00</td>\n",
       "      <td>27in 4K Gaming Monitor</td>\n",
       "      <td>1</td>\n",
       "      <td>2019-10</td>\n",
       "    </tr>\n",
       "    <tr>\n",
       "      <th>140470</th>\n",
       "      <td>2019-10-31 23:50:00</td>\n",
       "      <td>Flatscreen TV</td>\n",
       "      <td>1</td>\n",
       "      <td>2019-10</td>\n",
       "    </tr>\n",
       "    <tr>\n",
       "      <th>140471</th>\n",
       "      <td>2019-10-31 23:51:00</td>\n",
       "      <td>USB-C Charging Cable</td>\n",
       "      <td>1</td>\n",
       "      <td>2019-10</td>\n",
       "    </tr>\n",
       "  </tbody>\n",
       "</table>\n",
       "<p>140472 rows × 4 columns</p>\n",
       "</div>"
      ],
      "text/plain": [
       "                order_date                   product  demand     date\n",
       "0      2019-01-01 03:07:00          Wired Headphones       1  2019-01\n",
       "1      2019-01-01 03:40:00      USB-C Charging Cable       1  2019-01\n",
       "2      2019-01-01 04:56:00  Apple Airpods Headphones       1  2019-01\n",
       "3      2019-01-01 05:53:00    AAA Batteries (4-pack)       1  2019-01\n",
       "4      2019-01-01 06:03:00      USB-C Charging Cable       2  2019-01\n",
       "...                    ...                       ...     ...      ...\n",
       "140467 2019-10-31 23:38:00    AAA Batteries (4-pack)       1  2019-10\n",
       "140468 2019-10-31 23:48:00        Macbook Pro Laptop       1  2019-10\n",
       "140469 2019-10-31 23:49:00    27in 4K Gaming Monitor       1  2019-10\n",
       "140470 2019-10-31 23:50:00             Flatscreen TV       1  2019-10\n",
       "140471 2019-10-31 23:51:00      USB-C Charging Cable       1  2019-10\n",
       "\n",
       "[140472 rows x 4 columns]"
      ]
     },
     "execution_count": 25,
     "metadata": {},
     "output_type": "execute_result"
    }
   ],
   "source": [
    "data_plot"
   ]
  },
  {
   "cell_type": "code",
   "execution_count": 26,
   "id": "4b74d893",
   "metadata": {},
   "outputs": [
    {
     "data": {
      "text/plain": [
       "<AxesSubplot:xlabel='date', ylabel='demand'>"
      ]
     },
     "execution_count": 26,
     "metadata": {},
     "output_type": "execute_result"
    },
    {
     "data": {
      "image/png": "[encoded data removed]",
      "text/plain": [
       "<Figure size 1440x360 with 1 Axes>"
      ]
     },
     "metadata": {
      "needs_background": "light"
     },
     "output_type": "display_data"
    }
   ],
   "source": [
    "from matplotlib.dates import DateFormatter\n",
    "\n",
    "fig, ax = plt.subplots(figsize=(20,5))\n",
    "\n",
    "sns.lineplot(x=\"date\", y=\"demand\", data=data_plot, estimator=np.sum)"
   ]
  },
  {
   "cell_type": "code",
   "execution_count": 27,
   "id": "44596936",
   "metadata": {},
   "outputs": [],
   "source": [
    "data_plot = test.copy()"
   ]
  },
  {
   "cell_type": "code",
   "execution_count": 28,
   "id": "999d545c",
   "metadata": {},
   "outputs": [],
   "source": [
    "data_plot['date'] = data_plot['order_date'].dt.strftime('%Y-%m')"
   ]
  },
  {
   "cell_type": "code",
   "execution_count": 29,
   "id": "f65a0b28",
   "metadata": {},
   "outputs": [
    {
     "data": {
      "text/plain": [
       "<AxesSubplot:xlabel='date', ylabel='demand'>"
      ]
     },
     "execution_count": 29,
     "metadata": {},
     "output_type": "execute_result"
    },
    {
     "data": {
      "image/png": "[encoded data removed]",
      "text/plain": [
       "<Figure size 1440x360 with 1 Axes>"
      ]
     },
     "metadata": {
      "needs_background": "light"
     },
     "output_type": "display_data"
    }
   ],
   "source": [
    "from matplotlib.dates import DateFormatter\n",
    "\n",
    "fig, ax = plt.subplots(figsize=(20,5))\n",
    "\n",
    "sns.lineplot(x=\"date\", y=\"demand\", data=data_plot, estimator=np.sum)"
   ]
  },
  {
   "cell_type": "markdown",
   "id": "5c32aa61",
   "metadata": {},
   "source": [
    "## Subir datos a S3"
   ]
  },
  {
   "cell_type": "code",
   "execution_count": 30,
   "id": "be9928d3",
   "metadata": {},
   "outputs": [],
   "source": [
    "import boto3\n",
    "import sagemaker\n",
    "s3 = boto3.client(\"s3\", region_name='us-east-1')\n",
    "bucket_name='forecast-test-ventas-10102022'\n",
    "bucket = s3.create_bucket(Bucket=bucket_name)"
   ]
  },
  {
   "cell_type": "code",
   "execution_count": 31,
   "id": "7973aa39",
   "metadata": {},
   "outputs": [],
   "source": [
    "train.to_csv('train_demand.csv', index=False)"
   ]
  },
  {
   "cell_type": "code",
   "execution_count": 32,
   "id": "97e59070",
   "metadata": {},
   "outputs": [],
   "source": [
    "s3.upload_file(Filename=\"train_demand.csv\", Bucket=bucket_name, Key=\"train_demand.csv\")"
   ]
  },
  {
   "cell_type": "markdown",
   "id": "ded8ad71",
   "metadata": {},
   "source": [
    "## Creando el predictor"
   ]
  },
  {
   "cell_type": "code",
   "execution_count": 35,
   "id": "f802621c",
   "metadata": {},
   "outputs": [],
   "source": [
    "# Definicion de variables\n",
    "dataset_group_name = \"forecast_demanda_group\"\n",
    "dataset_name = \"demanda_dataset\"\n",
    "dataset_import_job = 'demanda_dataset_job'\n",
    "predictor_name = 'predictor_demanda'\n",
    "forecast_name = 'demanda_forecast'"
   ]
  },
  {
   "cell_type": "code",
   "execution_count": 34,
   "id": "be2a0d6e",
   "metadata": {},
   "outputs": [],
   "source": [
    "role = sagemaker.get_execution_role()\n",
    "iam = boto3.client('iam')\n",
    "forecast = boto3.client('forecast', region_name='us-east-1')"
   ]
  },
  {
   "cell_type": "code",
   "execution_count": 36,
   "id": "131a4dd1",
   "metadata": {},
   "outputs": [],
   "source": [
    "# Creando el dataset de forecast\n",
    "dataset_response = forecast.create_dataset(\n",
    "    DatasetName=dataset_name,\n",
    "    Domain='RETAIL',\n",
    "    DatasetType=\"TARGET_TIME_SERIES\",\n",
    "    DataFrequency=\"D\",\n",
    "    Schema={\n",
    "        \"Attributes\": [\n",
    "            {\"AttributeName\": \"timestamp\", \"AttributeType\": \"timestamp\"},\n",
    "            {\"AttributeName\": \"item_id\", \"AttributeType\": \"string\"},\n",
    "            {\"AttributeName\": \"demand\", \"AttributeType\": \"float\"},\n",
    "        ]\n",
    "    },\n",
    ")"
   ]
  },
  {
   "cell_type": "code",
   "execution_count": 37,
   "id": "fa4f7855",
   "metadata": {},
   "outputs": [
    {
     "data": {
      "text/plain": [
       "{'DatasetArn': 'arn:aws:forecast:us-east-1:xxxxxxxxxxxx:dataset/demanda_dataset',\n",
       " 'ResponseMetadata': {'RequestId': '98d89f23-2c1a-4370-bf4f-e2f18c0760bb',\n",
       "  'HTTPStatusCode': 200,\n",
       "  'HTTPHeaders': {'content-type': 'application/x-amz-json-1.1',\n",
       "   'date': 'Tue, 11 Oct 2022 06:18:18 GMT',\n",
       "   'x-amzn-requestid': '98d89f23-2c1a-4370-bf4f-e2f18c0760bb',\n",
       "   'content-length': '80',\n",
       "   'connection': 'keep-alive'},\n",
       "  'RetryAttempts': 0}}"
      ]
     },
     "execution_count": 37,
     "metadata": {},
     "output_type": "execute_result"
    }
   ],
   "source": [
    "dataset_response"
   ]
  },
  {
   "cell_type": "code",
   "execution_count": 38,
   "id": "9ba5f7f2",
   "metadata": {},
   "outputs": [],
   "source": [
    "# Crear import job\n",
    "import_job_response = forecast.create_dataset_import_job(\n",
    "    DatasetImportJobName=dataset_import_job,\n",
    "    DatasetArn=dataset_response[\"DatasetArn\"],\n",
    "    DataSource={\n",
    "        \"S3Config\": {\n",
    "            \"Path\": f\"s3://{bucket_name}/\",\n",
    "            \"RoleArn\": role,\n",
    "        }\n",
    "    },\n",
    "    TimestampFormat=\"yyyy-MM-dd HH:mm:ss\"\n",
    ")"
   ]
  },
  {
   "cell_type": "code",
   "execution_count": 39,
   "id": "e050e450",
   "metadata": {},
   "outputs": [],
   "source": [
    "# Creando un dataset group\n",
    "dataset_group_response = forecast.create_dataset_group(\n",
    "    DatasetGroupName=dataset_group_name,\n",
    "    Domain='RETAIL',\n",
    "    DatasetArns=[dataset_response[\"DatasetArn\"]],\n",
    ")"
   ]
  },
  {
   "cell_type": "code",
   "execution_count": 40,
   "id": "30b07561",
   "metadata": {},
   "outputs": [
    {
     "data": {
      "text/plain": [
       "{'DatasetGroupArn': 'arn:aws:forecast:us-east-1:xxxxxxxxxxxx:dataset-group/forecast_demanda_group',\n",
       " 'ResponseMetadata': {'RequestId': 'dd88527e-904b-4fee-93f7-d4567ce7090a',\n",
       "  'HTTPStatusCode': 200,\n",
       "  'HTTPHeaders': {'content-type': 'application/x-amz-json-1.1',\n",
       "   'date': 'Tue, 11 Oct 2022 06:20:21 GMT',\n",
       "   'x-amzn-requestid': 'dd88527e-904b-4fee-93f7-d4567ce7090a',\n",
       "   'content-length': '98',\n",
       "   'connection': 'keep-alive'},\n",
       "  'RetryAttempts': 0}}"
      ]
     },
     "execution_count": 40,
     "metadata": {},
     "output_type": "execute_result"
    }
   ],
   "source": [
    "dataset_group_response"
   ]
  },
  {
   "cell_type": "markdown",
   "id": "9e92a894",
   "metadata": {},
   "source": [
    "El trabajo de importación puede tardar varios minutos en completarse, dependiendo del tamaño del dataset. Con la siguiente celda se puede revisar el progreso"
   ]
  },
  {
   "cell_type": "code",
   "execution_count": 44,
   "id": "3bd0829d",
   "metadata": {},
   "outputs": [
    {
     "data": {
      "text/plain": [
       "'ACTIVE'"
      ]
     },
     "execution_count": 44,
     "metadata": {},
     "output_type": "execute_result"
    }
   ],
   "source": [
    "import_status = forecast.describe_dataset_import_job(\n",
    "DatasetImportJobArn=import_job_response['DatasetImportJobArn']\n",
    ")\n",
    "import_status['Status']"
   ]
  },
  {
   "cell_type": "code",
   "execution_count": 45,
   "id": "2b6d188e",
   "metadata": {},
   "outputs": [],
   "source": [
    "# Create predictor using automl\n",
    "predictor_response = forecast.create_predictor(\n",
    "    PredictorName=predictor_name,\n",
    "    ForecastHorizon=30,\n",
    "    PerformAutoML=True,\n",
    "    PerformHPO=False,\n",
    "    InputDataConfig={\"DatasetGroupArn\": dataset_group_response[\"DatasetGroupArn\"]},\n",
    "    FeaturizationConfig={\"ForecastFrequency\": \"D\"},\n",
    ")"
   ]
  },
  {
   "cell_type": "code",
   "execution_count": 46,
   "id": "aa74c052",
   "metadata": {},
   "outputs": [
    {
     "data": {
      "text/plain": [
       "{'PredictorArn': 'arn:aws:forecast:us-east-1:xxxxxxxxxxxx:predictor/predictor_demanda',\n",
       " 'ResponseMetadata': {'RequestId': '8a895b8d-41f2-4043-8d7a-57816c839ffe',\n",
       "  'HTTPStatusCode': 200,\n",
       "  'HTTPHeaders': {'content-type': 'application/x-amz-json-1.1',\n",
       "   'date': 'Tue, 11 Oct 2022 06:36:11 GMT',\n",
       "   'x-amzn-requestid': '8a895b8d-41f2-4043-8d7a-57816c839ffe',\n",
       "   'content-length': '86',\n",
       "   'connection': 'keep-alive'},\n",
       "  'RetryAttempts': 0}}"
      ]
     },
     "execution_count": 46,
     "metadata": {},
     "output_type": "execute_result"
    }
   ],
   "source": [
    "predictor_response"
   ]
  },
  {
   "cell_type": "markdown",
   "id": "dff9b874",
   "metadata": {},
   "source": [
    "El predictor demora en crearse dependiendo del volumen de los datos. Podemos revisar el status con la siguiente celda"
   ]
  },
  {
   "cell_type": "code",
   "execution_count": 55,
   "id": "45485cb7",
   "metadata": {},
   "outputs": [
    {
     "data": {
      "text/plain": [
       "'ACTIVE'"
      ]
     },
     "execution_count": 55,
     "metadata": {},
     "output_type": "execute_result"
    }
   ],
   "source": [
    "describe_predictor = forecast.describe_predictor(\n",
    "    PredictorArn=predictor_response['PredictorArn']\n",
    ")\n",
    "describe_predictor['Status']"
   ]
  },
  {
   "cell_type": "code",
   "execution_count": 56,
   "id": "3e13c4f1",
   "metadata": {},
   "outputs": [],
   "source": [
    "# Crear forecast\n",
    "forecast_response = forecast.create_forecast(\n",
    "    ForecastName=forecast_name,\n",
    "    PredictorArn=predictor_response[\"PredictorArn\"],\n",
    "    ForecastTypes=[\"0.1\", \"0.5\", \"0.9\"],\n",
    ")"
   ]
  },
  {
   "cell_type": "code",
   "execution_count": 57,
   "id": "25486e26",
   "metadata": {},
   "outputs": [
    {
     "data": {
      "text/plain": [
       "{'ForecastArn': 'arn:aws:forecast:us-east-1:xxxxxxxxxxxx:forecast/demanda_forecast',\n",
       " 'ResponseMetadata': {'RequestId': '6778a58f-9691-44d1-bfbb-f7d49b39a647',\n",
       "  'HTTPStatusCode': 200,\n",
       "  'HTTPHeaders': {'content-type': 'application/x-amz-json-1.1',\n",
       "   'date': 'Tue, 11 Oct 2022 15:45:52 GMT',\n",
       "   'x-amzn-requestid': '6778a58f-9691-44d1-bfbb-f7d49b39a647',\n",
       "   'content-length': '83',\n",
       "   'connection': 'keep-alive'},\n",
       "  'RetryAttempts': 0}}"
      ]
     },
     "execution_count": 57,
     "metadata": {},
     "output_type": "execute_result"
    }
   ],
   "source": [
    "forecast_response"
   ]
  },
  {
   "cell_type": "markdown",
   "id": "a0a38e42",
   "metadata": {},
   "source": [
    "El forecast tarda alrededor de 20 minutos en crearse, podemos revisar el estado con la siguiente celda"
   ]
  },
  {
   "cell_type": "code",
   "execution_count": 60,
   "id": "30ff3acd",
   "metadata": {},
   "outputs": [
    {
     "data": {
      "text/plain": [
       "'ACTIVE'"
      ]
     },
     "execution_count": 60,
     "metadata": {},
     "output_type": "execute_result"
    }
   ],
   "source": [
    "describe_forecast = forecast.describe_forecast(\n",
    "    ForecastArn=forecast_response['ForecastArn']\n",
    ")\n",
    "describe_forecast['Status']"
   ]
  },
  {
   "cell_type": "code",
   "execution_count": 62,
   "id": "09ae9c1c",
   "metadata": {},
   "outputs": [],
   "source": [
    "# Crear trabajo de exportación\n",
    "export_job = forecast.create_forecast_export_job(\n",
    "    ForecastExportJobName=\"DemandaForecast01\",\n",
    "    ForecastArn=forecast_response[\"ForecastArn\"],\n",
    "    Destination={\n",
    "        \"S3Config\": {\n",
    "            \"Path\": f's3://{bucket_name}',\n",
    "            \"RoleArn\": role,\n",
    "        }\n",
    "    },\n",
    ")"
   ]
  },
  {
   "cell_type": "code",
   "execution_count": 63,
   "id": "009739a2",
   "metadata": {},
   "outputs": [
    {
     "data": {
      "text/plain": [
       "{'ForecastExportJobArn': 'arn:aws:forecast:us-east-1:xxxxxxxxxxxx:forecast-export-job/demanda_forecast/DemandaForecast01',\n",
       " 'ResponseMetadata': {'RequestId': '79eb282d-3130-45e7-a4c3-e240f9c94d0c',\n",
       "  'HTTPStatusCode': 200,\n",
       "  'HTTPHeaders': {'content-type': 'application/x-amz-json-1.1',\n",
       "   'date': 'Tue, 11 Oct 2022 16:06:30 GMT',\n",
       "   'x-amzn-requestid': '79eb282d-3130-45e7-a4c3-e240f9c94d0c',\n",
       "   'content-length': '121',\n",
       "   'connection': 'keep-alive'},\n",
       "  'RetryAttempts': 0}}"
      ]
     },
     "execution_count": 63,
     "metadata": {},
     "output_type": "execute_result"
    }
   ],
   "source": [
    "export_job"
   ]
  },
  {
   "cell_type": "markdown",
   "id": "dc275e30",
   "metadata": {},
   "source": [
    "## Obteniendo una predicción"
   ]
  },
  {
   "cell_type": "code",
   "execution_count": 151,
   "id": "1996b124",
   "metadata": {},
   "outputs": [],
   "source": [
    "PREDICCION_ITEM = 'USB-C Charging Cable'"
   ]
  },
  {
   "cell_type": "code",
   "execution_count": 152,
   "id": "310939d0",
   "metadata": {},
   "outputs": [],
   "source": [
    "forecastquery = boto3.client('forecastquery', region_name='us-east-1')"
   ]
  },
  {
   "cell_type": "code",
   "execution_count": 153,
   "id": "5801c5f0",
   "metadata": {},
   "outputs": [],
   "source": [
    "forecastPredictionResponse = forecastquery.query_forecast(\n",
    "    ForecastArn=forecast_response[\"ForecastArn\"],\n",
    "    Filters={\"item_id\": PREDICCION_ITEM}\n",
    ")"
   ]
  },
  {
   "cell_type": "markdown",
   "id": "85b28a0e",
   "metadata": {},
   "source": [
    "## Graficando la predicción"
   ]
  },
  {
   "cell_type": "code",
   "execution_count": 154,
   "id": "0e73760b",
   "metadata": {},
   "outputs": [
    {
     "data": {
      "text/html": [
       "<div>\n",
       "<style scoped>\n",
       "    .dataframe tbody tr th:only-of-type {\n",
       "        vertical-align: middle;\n",
       "    }\n",
       "\n",
       "    .dataframe tbody tr th {\n",
       "        vertical-align: top;\n",
       "    }\n",
       "\n",
       "    .dataframe thead th {\n",
       "        text-align: right;\n",
       "    }\n",
       "</style>\n",
       "<table border=\"1\" class=\"dataframe\">\n",
       "  <thead>\n",
       "    <tr style=\"text-align: right;\">\n",
       "      <th></th>\n",
       "      <th>Timestamp</th>\n",
       "      <th>Value</th>\n",
       "    </tr>\n",
       "  </thead>\n",
       "  <tbody>\n",
       "    <tr>\n",
       "      <th>0</th>\n",
       "      <td>2019-11-01T00:00:00</td>\n",
       "      <td>45.0</td>\n",
       "    </tr>\n",
       "    <tr>\n",
       "      <th>1</th>\n",
       "      <td>2019-11-02T00:00:00</td>\n",
       "      <td>38.0</td>\n",
       "    </tr>\n",
       "    <tr>\n",
       "      <th>2</th>\n",
       "      <td>2019-11-03T00:00:00</td>\n",
       "      <td>41.0</td>\n",
       "    </tr>\n",
       "    <tr>\n",
       "      <th>3</th>\n",
       "      <td>2019-11-04T00:00:00</td>\n",
       "      <td>44.0</td>\n",
       "    </tr>\n",
       "    <tr>\n",
       "      <th>4</th>\n",
       "      <td>2019-11-05T00:00:00</td>\n",
       "      <td>47.0</td>\n",
       "    </tr>\n",
       "  </tbody>\n",
       "</table>\n",
       "</div>"
      ],
      "text/plain": [
       "             Timestamp  Value\n",
       "0  2019-11-01T00:00:00   45.0\n",
       "1  2019-11-02T00:00:00   38.0\n",
       "2  2019-11-03T00:00:00   41.0\n",
       "3  2019-11-04T00:00:00   44.0\n",
       "4  2019-11-05T00:00:00   47.0"
      ]
     },
     "execution_count": 154,
     "metadata": {},
     "output_type": "execute_result"
    }
   ],
   "source": [
    "# Generar DF \n",
    "prediction_df_p10 = pd.DataFrame.from_dict(forecastPredictionResponse['Forecast']['Predictions']['p10'])\n",
    "prediction_df_p10.head()"
   ]
  },
  {
   "cell_type": "code",
   "execution_count": 155,
   "id": "4aa547e0",
   "metadata": {},
   "outputs": [
    {
     "data": {
      "text/plain": [
       "<AxesSubplot:>"
      ]
     },
     "execution_count": 155,
     "metadata": {},
     "output_type": "execute_result"
    },
    {
     "data": {
      "image/png": "[encoded data removed]",
      "text/plain": [
       "<Figure size 432x288 with 1 Axes>"
      ]
     },
     "metadata": {
      "needs_background": "light"
     },
     "output_type": "display_data"
    }
   ],
   "source": [
    "prediction_df_p10.plot()"
   ]
  },
  {
   "cell_type": "code",
   "execution_count": 156,
   "id": "e3a2891e",
   "metadata": {},
   "outputs": [],
   "source": [
    "prediction_df_p50 = pd.DataFrame.from_dict(forecastPredictionResponse['Forecast']['Predictions']['p50'])\n",
    "prediction_df_p90 = pd.DataFrame.from_dict(forecastPredictionResponse['Forecast']['Predictions']['p90'])"
   ]
  },
  {
   "cell_type": "markdown",
   "id": "b46bc067",
   "metadata": {},
   "source": [
    "## Mostrando los valores reales"
   ]
  },
  {
   "cell_type": "code",
   "execution_count": 157,
   "id": "6fad7e6e",
   "metadata": {},
   "outputs": [],
   "source": [
    "# Los valores reales de demanda de cada producto, estan en el dataset de test\n",
    "actual_df = (test[(test['order_date'] > datetime.datetime(2019,10,31,23,59,59)) & (test['order_date'] <= datetime.datetime(2019,11,30,23,59,59))]).copy()"
   ]
  },
  {
   "cell_type": "code",
   "execution_count": 158,
   "id": "0fe53936",
   "metadata": {},
   "outputs": [],
   "source": [
    "actual_df = actual_df.loc[actual_df['product'] == PREDICCION_ITEM]"
   ]
  },
  {
   "cell_type": "code",
   "execution_count": 159,
   "id": "ec08f416",
   "metadata": {},
   "outputs": [],
   "source": [
    "actual_df.order_date = actual_df.order_date.dt.normalize()"
   ]
  },
  {
   "cell_type": "code",
   "execution_count": 160,
   "id": "d22d5a9e",
   "metadata": {},
   "outputs": [],
   "source": [
    "actual_df = actual_df.groupby(['order_date','product']).sum().reset_index()"
   ]
  },
  {
   "cell_type": "code",
   "execution_count": 161,
   "id": "2b31e553",
   "metadata": {},
   "outputs": [],
   "source": [
    "actual_df = actual_df.astype( {'order_date': str})"
   ]
  },
  {
   "cell_type": "code",
   "execution_count": 162,
   "id": "b81bec63",
   "metadata": {},
   "outputs": [
    {
     "name": "stdout",
     "output_type": "stream",
     "text": [
      "<class 'pandas.core.frame.DataFrame'>\n",
      "RangeIndex: 30 entries, 0 to 29\n",
      "Data columns (total 2 columns):\n",
      " #   Column     Non-Null Count  Dtype  \n",
      "---  ------     --------------  -----  \n",
      " 0   Timestamp  30 non-null     object \n",
      " 1   Value      30 non-null     float64\n",
      "dtypes: float64(1), object(1)\n",
      "memory usage: 608.0+ bytes\n"
     ]
    }
   ],
   "source": [
    "prediction_df_p10.info()"
   ]
  },
  {
   "cell_type": "code",
   "execution_count": 163,
   "id": "dd0c9c50",
   "metadata": {},
   "outputs": [
    {
     "name": "stdout",
     "output_type": "stream",
     "text": [
      "<class 'pandas.core.frame.DataFrame'>\n",
      "RangeIndex: 30 entries, 0 to 29\n",
      "Data columns (total 3 columns):\n",
      " #   Column      Non-Null Count  Dtype \n",
      "---  ------      --------------  ----- \n",
      " 0   order_date  30 non-null     object\n",
      " 1   product     30 non-null     object\n",
      " 2   demand      30 non-null     int64 \n",
      "dtypes: int64(1), object(2)\n",
      "memory usage: 848.0+ bytes\n"
     ]
    }
   ],
   "source": [
    "actual_df.info()"
   ]
  },
  {
   "cell_type": "code",
   "execution_count": 164,
   "id": "73ac2303",
   "metadata": {},
   "outputs": [],
   "source": [
    "actual_df = actual_df.drop(['product'], axis=1)"
   ]
  },
  {
   "cell_type": "code",
   "execution_count": 165,
   "id": "dbefb81c",
   "metadata": {},
   "outputs": [
    {
     "data": {
      "text/html": [
       "<div>\n",
       "<style scoped>\n",
       "    .dataframe tbody tr th:only-of-type {\n",
       "        vertical-align: middle;\n",
       "    }\n",
       "\n",
       "    .dataframe tbody tr th {\n",
       "        vertical-align: top;\n",
       "    }\n",
       "\n",
       "    .dataframe thead th {\n",
       "        text-align: right;\n",
       "    }\n",
       "</style>\n",
       "<table border=\"1\" class=\"dataframe\">\n",
       "  <thead>\n",
       "    <tr style=\"text-align: right;\">\n",
       "      <th></th>\n",
       "      <th>order_date</th>\n",
       "      <th>demand</th>\n",
       "    </tr>\n",
       "  </thead>\n",
       "  <tbody>\n",
       "    <tr>\n",
       "      <th>0</th>\n",
       "      <td>2019-11-01</td>\n",
       "      <td>83</td>\n",
       "    </tr>\n",
       "    <tr>\n",
       "      <th>1</th>\n",
       "      <td>2019-11-02</td>\n",
       "      <td>82</td>\n",
       "    </tr>\n",
       "    <tr>\n",
       "      <th>2</th>\n",
       "      <td>2019-11-03</td>\n",
       "      <td>74</td>\n",
       "    </tr>\n",
       "    <tr>\n",
       "      <th>3</th>\n",
       "      <td>2019-11-04</td>\n",
       "      <td>72</td>\n",
       "    </tr>\n",
       "    <tr>\n",
       "      <th>4</th>\n",
       "      <td>2019-11-05</td>\n",
       "      <td>83</td>\n",
       "    </tr>\n",
       "    <tr>\n",
       "      <th>5</th>\n",
       "      <td>2019-11-06</td>\n",
       "      <td>72</td>\n",
       "    </tr>\n",
       "    <tr>\n",
       "      <th>6</th>\n",
       "      <td>2019-11-07</td>\n",
       "      <td>83</td>\n",
       "    </tr>\n",
       "    <tr>\n",
       "      <th>7</th>\n",
       "      <td>2019-11-08</td>\n",
       "      <td>83</td>\n",
       "    </tr>\n",
       "    <tr>\n",
       "      <th>8</th>\n",
       "      <td>2019-11-09</td>\n",
       "      <td>69</td>\n",
       "    </tr>\n",
       "    <tr>\n",
       "      <th>9</th>\n",
       "      <td>2019-11-10</td>\n",
       "      <td>65</td>\n",
       "    </tr>\n",
       "    <tr>\n",
       "      <th>10</th>\n",
       "      <td>2019-11-11</td>\n",
       "      <td>69</td>\n",
       "    </tr>\n",
       "    <tr>\n",
       "      <th>11</th>\n",
       "      <td>2019-11-12</td>\n",
       "      <td>66</td>\n",
       "    </tr>\n",
       "    <tr>\n",
       "      <th>12</th>\n",
       "      <td>2019-11-13</td>\n",
       "      <td>77</td>\n",
       "    </tr>\n",
       "    <tr>\n",
       "      <th>13</th>\n",
       "      <td>2019-11-14</td>\n",
       "      <td>62</td>\n",
       "    </tr>\n",
       "    <tr>\n",
       "      <th>14</th>\n",
       "      <td>2019-11-15</td>\n",
       "      <td>61</td>\n",
       "    </tr>\n",
       "    <tr>\n",
       "      <th>15</th>\n",
       "      <td>2019-11-16</td>\n",
       "      <td>74</td>\n",
       "    </tr>\n",
       "    <tr>\n",
       "      <th>16</th>\n",
       "      <td>2019-11-17</td>\n",
       "      <td>84</td>\n",
       "    </tr>\n",
       "    <tr>\n",
       "      <th>17</th>\n",
       "      <td>2019-11-18</td>\n",
       "      <td>60</td>\n",
       "    </tr>\n",
       "    <tr>\n",
       "      <th>18</th>\n",
       "      <td>2019-11-19</td>\n",
       "      <td>78</td>\n",
       "    </tr>\n",
       "    <tr>\n",
       "      <th>19</th>\n",
       "      <td>2019-11-20</td>\n",
       "      <td>74</td>\n",
       "    </tr>\n",
       "    <tr>\n",
       "      <th>20</th>\n",
       "      <td>2019-11-21</td>\n",
       "      <td>94</td>\n",
       "    </tr>\n",
       "    <tr>\n",
       "      <th>21</th>\n",
       "      <td>2019-11-22</td>\n",
       "      <td>69</td>\n",
       "    </tr>\n",
       "    <tr>\n",
       "      <th>22</th>\n",
       "      <td>2019-11-23</td>\n",
       "      <td>86</td>\n",
       "    </tr>\n",
       "    <tr>\n",
       "      <th>23</th>\n",
       "      <td>2019-11-24</td>\n",
       "      <td>75</td>\n",
       "    </tr>\n",
       "    <tr>\n",
       "      <th>24</th>\n",
       "      <td>2019-11-25</td>\n",
       "      <td>74</td>\n",
       "    </tr>\n",
       "    <tr>\n",
       "      <th>25</th>\n",
       "      <td>2019-11-26</td>\n",
       "      <td>90</td>\n",
       "    </tr>\n",
       "    <tr>\n",
       "      <th>26</th>\n",
       "      <td>2019-11-27</td>\n",
       "      <td>62</td>\n",
       "    </tr>\n",
       "    <tr>\n",
       "      <th>27</th>\n",
       "      <td>2019-11-28</td>\n",
       "      <td>67</td>\n",
       "    </tr>\n",
       "    <tr>\n",
       "      <th>28</th>\n",
       "      <td>2019-11-29</td>\n",
       "      <td>76</td>\n",
       "    </tr>\n",
       "    <tr>\n",
       "      <th>29</th>\n",
       "      <td>2019-11-30</td>\n",
       "      <td>92</td>\n",
       "    </tr>\n",
       "  </tbody>\n",
       "</table>\n",
       "</div>"
      ],
      "text/plain": [
       "    order_date  demand\n",
       "0   2019-11-01      83\n",
       "1   2019-11-02      82\n",
       "2   2019-11-03      74\n",
       "3   2019-11-04      72\n",
       "4   2019-11-05      83\n",
       "5   2019-11-06      72\n",
       "6   2019-11-07      83\n",
       "7   2019-11-08      83\n",
       "8   2019-11-09      69\n",
       "9   2019-11-10      65\n",
       "10  2019-11-11      69\n",
       "11  2019-11-12      66\n",
       "12  2019-11-13      77\n",
       "13  2019-11-14      62\n",
       "14  2019-11-15      61\n",
       "15  2019-11-16      74\n",
       "16  2019-11-17      84\n",
       "17  2019-11-18      60\n",
       "18  2019-11-19      78\n",
       "19  2019-11-20      74\n",
       "20  2019-11-21      94\n",
       "21  2019-11-22      69\n",
       "22  2019-11-23      86\n",
       "23  2019-11-24      75\n",
       "24  2019-11-25      74\n",
       "25  2019-11-26      90\n",
       "26  2019-11-27      62\n",
       "27  2019-11-28      67\n",
       "28  2019-11-29      76\n",
       "29  2019-11-30      92"
      ]
     },
     "execution_count": 165,
     "metadata": {},
     "output_type": "execute_result"
    }
   ],
   "source": [
    "actual_df"
   ]
  },
  {
   "cell_type": "code",
   "execution_count": 166,
   "id": "4b60fc64",
   "metadata": {},
   "outputs": [],
   "source": [
    "# Para igualar el df de la predicción\n",
    "actual_df = actual_df.rename(columns={'order_date': 'timestamp', 'demand': 'value'})"
   ]
  },
  {
   "cell_type": "markdown",
   "id": "f4cba0a4",
   "metadata": {},
   "source": [
    "## Comparando la predicción con los resultados"
   ]
  },
  {
   "cell_type": "code",
   "execution_count": 167,
   "id": "8e7bc9bc",
   "metadata": {},
   "outputs": [],
   "source": [
    "results_df = pd.DataFrame(columns=['timestamp', 'value', 'source'])"
   ]
  },
  {
   "cell_type": "code",
   "execution_count": 168,
   "id": "2c42ef53",
   "metadata": {},
   "outputs": [],
   "source": [
    "for index, row in actual_df.iterrows():\n",
    "    clean_timestamp = dateutil.parser.parse(row['timestamp'])\n",
    "    results_df = results_df.append({'timestamp' : clean_timestamp , 'value' : row['value'], 'source': 'actual'} , ignore_index=True)"
   ]
  },
  {
   "cell_type": "code",
   "execution_count": 169,
   "id": "ef77469c",
   "metadata": {},
   "outputs": [],
   "source": [
    "for index, row in prediction_df_p10.iterrows():\n",
    "    clean_timestamp = dateutil.parser.parse(row['Timestamp'])\n",
    "    results_df = results_df.append({'timestamp' : clean_timestamp , 'value' : row['Value'], 'source': 'p10'} , ignore_index=True)\n",
    "for index, row in prediction_df_p50.iterrows():\n",
    "    clean_timestamp = dateutil.parser.parse(row['Timestamp'])\n",
    "    results_df = results_df.append({'timestamp' : clean_timestamp , 'value' : row['Value'], 'source': 'p50'} , ignore_index=True)\n",
    "for index, row in prediction_df_p90.iterrows():\n",
    "    clean_timestamp = dateutil.parser.parse(row['Timestamp'])\n",
    "    results_df = results_df.append({'timestamp' : clean_timestamp , 'value' : row['Value'], 'source': 'p90'} , ignore_index=True)"
   ]
  },
  {
   "cell_type": "code",
   "execution_count": 170,
   "id": "db93fdfb",
   "metadata": {},
   "outputs": [
    {
     "data": {
      "text/html": [
       "<div>\n",
       "<style scoped>\n",
       "    .dataframe tbody tr th:only-of-type {\n",
       "        vertical-align: middle;\n",
       "    }\n",
       "\n",
       "    .dataframe tbody tr th {\n",
       "        vertical-align: top;\n",
       "    }\n",
       "\n",
       "    .dataframe thead th {\n",
       "        text-align: right;\n",
       "    }\n",
       "</style>\n",
       "<table border=\"1\" class=\"dataframe\">\n",
       "  <thead>\n",
       "    <tr style=\"text-align: right;\">\n",
       "      <th></th>\n",
       "      <th>timestamp</th>\n",
       "      <th>value</th>\n",
       "      <th>source</th>\n",
       "    </tr>\n",
       "  </thead>\n",
       "  <tbody>\n",
       "    <tr>\n",
       "      <th>0</th>\n",
       "      <td>2019-11-01</td>\n",
       "      <td>83</td>\n",
       "      <td>actual</td>\n",
       "    </tr>\n",
       "    <tr>\n",
       "      <th>1</th>\n",
       "      <td>2019-11-02</td>\n",
       "      <td>82</td>\n",
       "      <td>actual</td>\n",
       "    </tr>\n",
       "    <tr>\n",
       "      <th>2</th>\n",
       "      <td>2019-11-03</td>\n",
       "      <td>74</td>\n",
       "      <td>actual</td>\n",
       "    </tr>\n",
       "    <tr>\n",
       "      <th>3</th>\n",
       "      <td>2019-11-04</td>\n",
       "      <td>72</td>\n",
       "      <td>actual</td>\n",
       "    </tr>\n",
       "    <tr>\n",
       "      <th>4</th>\n",
       "      <td>2019-11-05</td>\n",
       "      <td>83</td>\n",
       "      <td>actual</td>\n",
       "    </tr>\n",
       "    <tr>\n",
       "      <th>...</th>\n",
       "      <td>...</td>\n",
       "      <td>...</td>\n",
       "      <td>...</td>\n",
       "    </tr>\n",
       "    <tr>\n",
       "      <th>115</th>\n",
       "      <td>2019-11-26</td>\n",
       "      <td>78.0</td>\n",
       "      <td>p90</td>\n",
       "    </tr>\n",
       "    <tr>\n",
       "      <th>116</th>\n",
       "      <td>2019-11-27</td>\n",
       "      <td>83.0</td>\n",
       "      <td>p90</td>\n",
       "    </tr>\n",
       "    <tr>\n",
       "      <th>117</th>\n",
       "      <td>2019-11-28</td>\n",
       "      <td>83.0</td>\n",
       "      <td>p90</td>\n",
       "    </tr>\n",
       "    <tr>\n",
       "      <th>118</th>\n",
       "      <td>2019-11-29</td>\n",
       "      <td>79.0</td>\n",
       "      <td>p90</td>\n",
       "    </tr>\n",
       "    <tr>\n",
       "      <th>119</th>\n",
       "      <td>2019-11-30</td>\n",
       "      <td>83.0</td>\n",
       "      <td>p90</td>\n",
       "    </tr>\n",
       "  </tbody>\n",
       "</table>\n",
       "<p>120 rows × 3 columns</p>\n",
       "</div>"
      ],
      "text/plain": [
       "     timestamp value  source\n",
       "0   2019-11-01    83  actual\n",
       "1   2019-11-02    82  actual\n",
       "2   2019-11-03    74  actual\n",
       "3   2019-11-04    72  actual\n",
       "4   2019-11-05    83  actual\n",
       "..         ...   ...     ...\n",
       "115 2019-11-26  78.0     p90\n",
       "116 2019-11-27  83.0     p90\n",
       "117 2019-11-28  83.0     p90\n",
       "118 2019-11-29  79.0     p90\n",
       "119 2019-11-30  83.0     p90\n",
       "\n",
       "[120 rows x 3 columns]"
      ]
     },
     "execution_count": 170,
     "metadata": {},
     "output_type": "execute_result"
    }
   ],
   "source": [
    "results_df"
   ]
  },
  {
   "cell_type": "code",
   "execution_count": 171,
   "id": "b05ae11a",
   "metadata": {},
   "outputs": [
    {
     "data": {
      "text/html": [
       "<div>\n",
       "<style scoped>\n",
       "    .dataframe tbody tr th:only-of-type {\n",
       "        vertical-align: middle;\n",
       "    }\n",
       "\n",
       "    .dataframe tbody tr th {\n",
       "        vertical-align: top;\n",
       "    }\n",
       "\n",
       "    .dataframe thead th {\n",
       "        text-align: right;\n",
       "    }\n",
       "</style>\n",
       "<table border=\"1\" class=\"dataframe\">\n",
       "  <thead>\n",
       "    <tr style=\"text-align: right;\">\n",
       "      <th>source</th>\n",
       "      <th>actual</th>\n",
       "      <th>p10</th>\n",
       "      <th>p50</th>\n",
       "      <th>p90</th>\n",
       "    </tr>\n",
       "    <tr>\n",
       "      <th>timestamp</th>\n",
       "      <th></th>\n",
       "      <th></th>\n",
       "      <th></th>\n",
       "      <th></th>\n",
       "    </tr>\n",
       "  </thead>\n",
       "  <tbody>\n",
       "    <tr>\n",
       "      <th>2019-11-01</th>\n",
       "      <td>83</td>\n",
       "      <td>45.0</td>\n",
       "      <td>55.0</td>\n",
       "      <td>74.0</td>\n",
       "    </tr>\n",
       "    <tr>\n",
       "      <th>2019-11-02</th>\n",
       "      <td>82</td>\n",
       "      <td>38.0</td>\n",
       "      <td>58.0</td>\n",
       "      <td>83.0</td>\n",
       "    </tr>\n",
       "    <tr>\n",
       "      <th>2019-11-03</th>\n",
       "      <td>74</td>\n",
       "      <td>41.0</td>\n",
       "      <td>61.0</td>\n",
       "      <td>83.0</td>\n",
       "    </tr>\n",
       "    <tr>\n",
       "      <th>2019-11-04</th>\n",
       "      <td>72</td>\n",
       "      <td>44.0</td>\n",
       "      <td>64.0</td>\n",
       "      <td>82.0</td>\n",
       "    </tr>\n",
       "    <tr>\n",
       "      <th>2019-11-05</th>\n",
       "      <td>83</td>\n",
       "      <td>47.0</td>\n",
       "      <td>57.0</td>\n",
       "      <td>79.0</td>\n",
       "    </tr>\n",
       "    <tr>\n",
       "      <th>2019-11-06</th>\n",
       "      <td>72</td>\n",
       "      <td>41.0</td>\n",
       "      <td>56.0</td>\n",
       "      <td>75.0</td>\n",
       "    </tr>\n",
       "    <tr>\n",
       "      <th>2019-11-07</th>\n",
       "      <td>83</td>\n",
       "      <td>45.0</td>\n",
       "      <td>62.0</td>\n",
       "      <td>91.0</td>\n",
       "    </tr>\n",
       "    <tr>\n",
       "      <th>2019-11-08</th>\n",
       "      <td>83</td>\n",
       "      <td>46.0</td>\n",
       "      <td>58.0</td>\n",
       "      <td>79.0</td>\n",
       "    </tr>\n",
       "    <tr>\n",
       "      <th>2019-11-09</th>\n",
       "      <td>69</td>\n",
       "      <td>36.0</td>\n",
       "      <td>63.0</td>\n",
       "      <td>88.0</td>\n",
       "    </tr>\n",
       "    <tr>\n",
       "      <th>2019-11-10</th>\n",
       "      <td>65</td>\n",
       "      <td>40.0</td>\n",
       "      <td>61.0</td>\n",
       "      <td>83.0</td>\n",
       "    </tr>\n",
       "    <tr>\n",
       "      <th>2019-11-11</th>\n",
       "      <td>69</td>\n",
       "      <td>44.0</td>\n",
       "      <td>62.0</td>\n",
       "      <td>82.0</td>\n",
       "    </tr>\n",
       "    <tr>\n",
       "      <th>2019-11-12</th>\n",
       "      <td>66</td>\n",
       "      <td>41.0</td>\n",
       "      <td>57.0</td>\n",
       "      <td>76.0</td>\n",
       "    </tr>\n",
       "    <tr>\n",
       "      <th>2019-11-13</th>\n",
       "      <td>77</td>\n",
       "      <td>41.0</td>\n",
       "      <td>57.0</td>\n",
       "      <td>97.0</td>\n",
       "    </tr>\n",
       "    <tr>\n",
       "      <th>2019-11-14</th>\n",
       "      <td>62</td>\n",
       "      <td>43.0</td>\n",
       "      <td>60.0</td>\n",
       "      <td>83.0</td>\n",
       "    </tr>\n",
       "    <tr>\n",
       "      <th>2019-11-15</th>\n",
       "      <td>61</td>\n",
       "      <td>45.0</td>\n",
       "      <td>56.0</td>\n",
       "      <td>74.0</td>\n",
       "    </tr>\n",
       "    <tr>\n",
       "      <th>2019-11-16</th>\n",
       "      <td>74</td>\n",
       "      <td>43.0</td>\n",
       "      <td>58.0</td>\n",
       "      <td>79.0</td>\n",
       "    </tr>\n",
       "    <tr>\n",
       "      <th>2019-11-17</th>\n",
       "      <td>84</td>\n",
       "      <td>41.0</td>\n",
       "      <td>58.0</td>\n",
       "      <td>79.0</td>\n",
       "    </tr>\n",
       "    <tr>\n",
       "      <th>2019-11-18</th>\n",
       "      <td>60</td>\n",
       "      <td>44.0</td>\n",
       "      <td>62.0</td>\n",
       "      <td>82.0</td>\n",
       "    </tr>\n",
       "    <tr>\n",
       "      <th>2019-11-19</th>\n",
       "      <td>78</td>\n",
       "      <td>44.0</td>\n",
       "      <td>66.0</td>\n",
       "      <td>83.0</td>\n",
       "    </tr>\n",
       "    <tr>\n",
       "      <th>2019-11-20</th>\n",
       "      <td>74</td>\n",
       "      <td>41.0</td>\n",
       "      <td>57.0</td>\n",
       "      <td>83.0</td>\n",
       "    </tr>\n",
       "    <tr>\n",
       "      <th>2019-11-21</th>\n",
       "      <td>94</td>\n",
       "      <td>44.0</td>\n",
       "      <td>59.0</td>\n",
       "      <td>83.0</td>\n",
       "    </tr>\n",
       "    <tr>\n",
       "      <th>2019-11-22</th>\n",
       "      <td>69</td>\n",
       "      <td>45.0</td>\n",
       "      <td>57.0</td>\n",
       "      <td>83.0</td>\n",
       "    </tr>\n",
       "    <tr>\n",
       "      <th>2019-11-23</th>\n",
       "      <td>86</td>\n",
       "      <td>41.0</td>\n",
       "      <td>58.0</td>\n",
       "      <td>80.0</td>\n",
       "    </tr>\n",
       "    <tr>\n",
       "      <th>2019-11-24</th>\n",
       "      <td>75</td>\n",
       "      <td>41.0</td>\n",
       "      <td>59.0</td>\n",
       "      <td>83.0</td>\n",
       "    </tr>\n",
       "    <tr>\n",
       "      <th>2019-11-25</th>\n",
       "      <td>74</td>\n",
       "      <td>41.0</td>\n",
       "      <td>60.0</td>\n",
       "      <td>82.0</td>\n",
       "    </tr>\n",
       "    <tr>\n",
       "      <th>2019-11-26</th>\n",
       "      <td>90</td>\n",
       "      <td>44.0</td>\n",
       "      <td>57.0</td>\n",
       "      <td>78.0</td>\n",
       "    </tr>\n",
       "    <tr>\n",
       "      <th>2019-11-27</th>\n",
       "      <td>62</td>\n",
       "      <td>41.0</td>\n",
       "      <td>57.0</td>\n",
       "      <td>83.0</td>\n",
       "    </tr>\n",
       "    <tr>\n",
       "      <th>2019-11-28</th>\n",
       "      <td>67</td>\n",
       "      <td>40.0</td>\n",
       "      <td>60.0</td>\n",
       "      <td>83.0</td>\n",
       "    </tr>\n",
       "    <tr>\n",
       "      <th>2019-11-29</th>\n",
       "      <td>76</td>\n",
       "      <td>46.0</td>\n",
       "      <td>57.0</td>\n",
       "      <td>79.0</td>\n",
       "    </tr>\n",
       "    <tr>\n",
       "      <th>2019-11-30</th>\n",
       "      <td>92</td>\n",
       "      <td>42.0</td>\n",
       "      <td>58.0</td>\n",
       "      <td>83.0</td>\n",
       "    </tr>\n",
       "  </tbody>\n",
       "</table>\n",
       "</div>"
      ],
      "text/plain": [
       "source     actual   p10   p50   p90\n",
       "timestamp                          \n",
       "2019-11-01     83  45.0  55.0  74.0\n",
       "2019-11-02     82  38.0  58.0  83.0\n",
       "2019-11-03     74  41.0  61.0  83.0\n",
       "2019-11-04     72  44.0  64.0  82.0\n",
       "2019-11-05     83  47.0  57.0  79.0\n",
       "2019-11-06     72  41.0  56.0  75.0\n",
       "2019-11-07     83  45.0  62.0  91.0\n",
       "2019-11-08     83  46.0  58.0  79.0\n",
       "2019-11-09     69  36.0  63.0  88.0\n",
       "2019-11-10     65  40.0  61.0  83.0\n",
       "2019-11-11     69  44.0  62.0  82.0\n",
       "2019-11-12     66  41.0  57.0  76.0\n",
       "2019-11-13     77  41.0  57.0  97.0\n",
       "2019-11-14     62  43.0  60.0  83.0\n",
       "2019-11-15     61  45.0  56.0  74.0\n",
       "2019-11-16     74  43.0  58.0  79.0\n",
       "2019-11-17     84  41.0  58.0  79.0\n",
       "2019-11-18     60  44.0  62.0  82.0\n",
       "2019-11-19     78  44.0  66.0  83.0\n",
       "2019-11-20     74  41.0  57.0  83.0\n",
       "2019-11-21     94  44.0  59.0  83.0\n",
       "2019-11-22     69  45.0  57.0  83.0\n",
       "2019-11-23     86  41.0  58.0  80.0\n",
       "2019-11-24     75  41.0  59.0  83.0\n",
       "2019-11-25     74  41.0  60.0  82.0\n",
       "2019-11-26     90  44.0  57.0  78.0\n",
       "2019-11-27     62  41.0  57.0  83.0\n",
       "2019-11-28     67  40.0  60.0  83.0\n",
       "2019-11-29     76  46.0  57.0  79.0\n",
       "2019-11-30     92  42.0  58.0  83.0"
      ]
     },
     "execution_count": 171,
     "metadata": {},
     "output_type": "execute_result"
    }
   ],
   "source": [
    "pivot_df = results_df.pivot(columns='source', values='value', index=\"timestamp\")\n",
    "\n",
    "pivot_df"
   ]
  },
  {
   "cell_type": "code",
   "execution_count": 172,
   "id": "a0c2b149",
   "metadata": {},
   "outputs": [
    {
     "data": {
      "text/plain": [
       "<AxesSubplot:xlabel='timestamp'>"
      ]
     },
     "execution_count": 172,
     "metadata": {},
     "output_type": "execute_result"
    },
    {
     "data": {
      "image/png": "[encoded data removed]",
      "text/plain": [
       "<Figure size 432x288 with 1 Axes>"
      ]
     },
     "metadata": {
      "needs_background": "light"
     },
     "output_type": "display_data"
    }
   ],
   "source": [
    "pivot_df.plot()"
   ]
  },
  {
   "cell_type": "markdown",
   "id": "cac7c12b",
   "metadata": {},
   "source": [
    "## Limpieza"
   ]
  },
  {
   "cell_type": "markdown",
   "id": "e740eb30",
   "metadata": {},
   "source": [
    "Al terminar podemos eliminar los recursos de Forecast con las siguientes celdas"
   ]
  },
  {
   "cell_type": "code",
   "execution_count": null,
   "id": "40abfc32",
   "metadata": {},
   "outputs": [],
   "source": [
    "# Borrar el forecast\n",
    "delete_forecast = forecast.delete_forecast(\n",
    "    ForecastArn=forecast_response['ForecastArn']\n",
    ")"
   ]
  },
  {
   "cell_type": "code",
   "execution_count": null,
   "id": "5040acb3",
   "metadata": {},
   "outputs": [],
   "source": [
    "delete_forecast"
   ]
  },
  {
   "cell_type": "code",
   "execution_count": null,
   "id": "a82c9100",
   "metadata": {},
   "outputs": [],
   "source": [
    "# Borrar el predictor\n",
    "delete_predictor = forecast.delete_predictor(\n",
    "    PredictorArn=predictor_response['PredictorArn']\n",
    ")"
   ]
  },
  {
   "cell_type": "code",
   "execution_count": null,
   "id": "3b14cab8",
   "metadata": {},
   "outputs": [],
   "source": [
    "delete_predictor"
   ]
  },
  {
   "cell_type": "code",
   "execution_count": null,
   "id": "84a3ee97",
   "metadata": {},
   "outputs": [],
   "source": [
    "# Borrar el trabajo de exportación\n",
    "delete_export_job = forecast.delete_forecast_export_job(\n",
    "    ForecastExportJobArn=export_job['ForecastExportJobArn']\n",
    ")"
   ]
  },
  {
   "cell_type": "code",
   "execution_count": null,
   "id": "ef09f9ec",
   "metadata": {},
   "outputs": [],
   "source": [
    "delete_export_job"
   ]
  },
  {
   "cell_type": "code",
   "execution_count": null,
   "id": "b4116262",
   "metadata": {},
   "outputs": [],
   "source": [
    "# Borrar el dataset import job\n",
    "delete_dataset_import_job = forecast.delete_dataset_import_job(\n",
    "    DatasetImportJobArn=import_job_response['DatasetImportJobArn']\n",
    ")"
   ]
  },
  {
   "cell_type": "code",
   "execution_count": null,
   "id": "b01476dc",
   "metadata": {},
   "outputs": [],
   "source": [
    "delete_dataset_import_job"
   ]
  },
  {
   "cell_type": "code",
   "execution_count": null,
   "id": "7161dc04",
   "metadata": {},
   "outputs": [],
   "source": [
    "# Borrar el dataset\n",
    "delete_dataset = forecast.delete_dataset(\n",
    "    DatasetArn=dataset_response['DatasetArn']\n",
    ")"
   ]
  },
  {
   "cell_type": "code",
   "execution_count": null,
   "id": "b8809604",
   "metadata": {},
   "outputs": [],
   "source": [
    "delete_dataset"
   ]
  },
  {
   "cell_type": "code",
   "execution_count": null,
   "id": "7d31c988",
   "metadata": {},
   "outputs": [],
   "source": [
    "# Borrar el dataset group\n",
    "delete_dataset_group = forecast.delete_dataset_group(\n",
    "    DatasetGroupArn=dataset_group_response[\"DatasetGroupArn\"]\n",
    ")"
   ]
  },
  {
   "cell_type": "code",
   "execution_count": null,
   "id": "d4e4764e",
   "metadata": {},
   "outputs": [],
   "source": [
    "delete_dataset_group"
   ]
  }
 ],
 "metadata": {
  "kernelspec": {
   "display_name": "conda_python3",
   "language": "python",
   "name": "conda_python3"
  },
  "language_info": {
   "codemirror_mode": {
    "name": "ipython",
    "version": 3
   },
   "file_extension": ".py",
   "mimetype": "text/x-python",
   "name": "python",
   "nbconvert_exporter": "python",
   "pygments_lexer": "ipython3",
   "version": "3.8.12"
  }
 },
 "nbformat": 4,
 "nbformat_minor": 5
}
